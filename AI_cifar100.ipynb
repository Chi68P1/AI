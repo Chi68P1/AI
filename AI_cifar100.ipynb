{
  "cells": [
    {
      "cell_type": "markdown",
      "metadata": {
        "id": "view-in-github",
        "colab_type": "text"
      },
      "source": [
        "<a href=\"https://colab.research.google.com/github/Chi68P1/AI/blob/main/AI_cifar100.ipynb\" target=\"_parent\"><img src=\"https://colab.research.google.com/assets/colab-badge.svg\" alt=\"Open In Colab\"/></a>"
      ]
    },
    {
      "cell_type": "code",
      "execution_count": null,
      "metadata": {
        "colab": {
          "background_save": true,
          "base_uri": "https://localhost:8080/"
        },
        "id": "3XQjaHHQG4Aq",
        "outputId": "1c1e7a90-9ed2-4f08-df0f-e99e9cc6c431"
      },
      "outputs": [
        {
          "name": "stdout",
          "output_type": "stream",
          "text": [
            "Downloading data from https://www.cs.toronto.edu/~kriz/cifar-100-python.tar.gz\n",
            "169001437/169001437 [==============================] - 13s 0us/step\n"
          ]
        }
      ],
      "source": [
        "from keras.datasets.cifar100 import load_data #dấu chấm là đường dẫn\n",
        "\n",
        "(x_train, y_train), (x_test, y_test) = load_data()"
      ]
    },
    {
      "cell_type": "code",
      "execution_count": null,
      "metadata": {
        "id": "qTrafB7hG9eA"
      },
      "outputs": [],
      "source": [
        "print(x_train.shape)\n",
        "print(x_test.shape)"
      ]
    },
    {
      "cell_type": "code",
      "execution_count": null,
      "metadata": {
        "id": "XzFFiGNRG9g1"
      },
      "outputs": [],
      "source": [
        "\n",
        "x_train = x_train.astype('float32')\n",
        "x_train = x_train/255\n",
        "x_test = x_test.astype('float32')\n",
        "x_test = x_test/255"
      ]
    },
    {
      "cell_type": "code",
      "execution_count": null,
      "metadata": {
        "id": "jmIYM3ErT8zU"
      },
      "outputs": [],
      "source": [
        "from keras.utils import to_categorical\n",
        "y_train = to_categorical(y_train)\n",
        "y_test = to_categorical(y_test)"
      ]
    },
    {
      "cell_type": "code",
      "execution_count": null,
      "metadata": {
        "id": "MKJdku_8UEaD"
      },
      "outputs": [],
      "source": [
        "from keras.models import Sequential,Model\n",
        "from keras.layers import Dense,Flatten,Dropout,Conv2D,MaxPooling2D,Normalization,Input\n",
        "\n",
        "from keras.optimizers import Adam\n",
        "batch_size = 64 \n",
        "epochs = 24 \n",
        "classes = 100"
      ]
    },
    {
      "cell_type": "code",
      "execution_count": null,
      "metadata": {
        "id": "fD-jCVgXUEcV"
      },
      "outputs": [],
      "source": [
        "#CNN\n",
        "from keras.layers import LeakyReLU\n",
        "\n",
        "model = Sequential()\n",
        "\n",
        "model.add(Conv2D(32,kernel_size=(3,3), activation= 'linear',input_shape = (32,32,3),padding = 'same'))\n",
        "model.add(LeakyReLU(alpha =0.1))\n",
        "model.add(MaxPooling2D((2,2),padding = 'same'))\n",
        "\n",
        "model.add(Conv2D(64,(3,3),activation='linear',padding = 'same'))\n",
        "model.add(LeakyReLU(alpha = 0.1))\n",
        "model.add(MaxPooling2D((2,2),padding = 'same'))\n",
        "\n",
        "model.add(Conv2D(128,(3,3),activation='linear',padding = 'same'))\n",
        "model.add(LeakyReLU(alpha = 0.1))\n",
        "model.add(MaxPooling2D((2,2),padding = 'same'))\n",
        "\n",
        "model.summary()"
      ]
    },
    {
      "cell_type": "code",
      "execution_count": null,
      "metadata": {
        "id": "LYtxXJItUPCC"
      },
      "outputs": [],
      "source": [
        "#ANN\n",
        "from keras import losses\n",
        "\n",
        "model.add(Flatten())\n",
        "model.add(Dense(100,activation='linear'))\n",
        "model.add(LeakyReLU(alpha =0.1))\n",
        "model.add(Dense(classes,activation='softmax'))\n",
        "model.compile(loss = losses.categorical_crossentropy,optimizer=Adam(),metrics = ['accuracy'])\n",
        "model.summary()\n"
      ]
    },
    {
      "cell_type": "code",
      "execution_count": null,
      "metadata": {
        "colab": {
          "base_uri": "https://localhost:8080/"
        },
        "id": "b0Y1ToqyUakT",
        "outputId": "07398c1d-26b0-4296-944c-1828050909c5"
      },
      "outputs": [
        {
          "name": "stdout",
          "output_type": "stream",
          "text": [
            "Epoch 1/24\n",
            "448/782 [================>.............] - ETA: 1:01 - loss: 3.9305 - accuracy: 0.1041"
          ]
        }
      ],
      "source": [
        "train = model.fit(x_train,y_train,batch_size=batch_size,epochs=epochs,verbose=1)"
      ]
    },
    {
      "cell_type": "code",
      "execution_count": null,
      "metadata": {
        "id": "FgrRC02uVNYj"
      },
      "outputs": [],
      "source": [
        "test_acc,test_loss = model.evaluate(x_test, y_test)\n",
        "\n",
        "print(\"test_acc\",test_acc)\n",
        "print(\"test_loss\",test_loss)"
      ]
    }
  ],
  "metadata": {
    "colab": {
      "provenance": [],
      "authorship_tag": "ABX9TyOEombtJY8ky8uTTuNAiULz",
      "include_colab_link": true
    },
    "gpuClass": "standard",
    "kernelspec": {
      "display_name": "Python 3",
      "name": "python3"
    },
    "language_info": {
      "name": "python"
    }
  },
  "nbformat": 4,
  "nbformat_minor": 0
}