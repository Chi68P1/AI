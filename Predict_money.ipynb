{
  "nbformat": 4,
  "nbformat_minor": 0,
  "metadata": {
    "colab": {
      "provenance": [],
      "authorship_tag": "ABX9TyNycNNx39fJ2K1JRhQ9x2Dd",
      "include_colab_link": true
    },
    "kernelspec": {
      "name": "python3",
      "display_name": "Python 3"
    },
    "language_info": {
      "name": "python"
    },
    "accelerator": "GPU",
    "gpuClass": "standard"
  },
  "cells": [
    {
      "cell_type": "markdown",
      "metadata": {
        "id": "view-in-github",
        "colab_type": "text"
      },
      "source": [
        "<a href=\"https://colab.research.google.com/github/Chi68P1/AI/blob/main/Predict_money.ipynb\" target=\"_parent\"><img src=\"https://colab.research.google.com/assets/colab-badge.svg\" alt=\"Open In Colab\"/></a>"
      ]
    },
    {
      "cell_type": "code",
      "execution_count": null,
      "metadata": {
        "id": "ePWU35wbPtMA"
      },
      "outputs": [],
      "source": [
        "from os import listdir\n",
        "from numpy import asarray\n",
        "from numpy import save\n",
        "from keras.utils.image_utils import img_to_array\n",
        "from keras.utils import load_img"
      ]
    },
    {
      "cell_type": "code",
      "source": [
        "from google.colab import drive\n",
        "drive.mount('/content/drive')"
      ],
      "metadata": {
        "colab": {
          "base_uri": "https://localhost:8080/"
        },
        "id": "qJvJlGVdg2dA",
        "outputId": "9ea1646f-48ba-4ecd-dba5-d735537f3e9f"
      },
      "execution_count": null,
      "outputs": [
        {
          "output_type": "stream",
          "name": "stdout",
          "text": [
            "Mounted at /content/drive\n"
          ]
        }
      ]
    },
    {
      "cell_type": "code",
      "source": [
        "\n",
        "folder='/content/drive/MyDrive/Colab Notebooks/Money/'"
      ],
      "metadata": {
        "id": "7gdnF779P5gy"
      },
      "execution_count": null,
      "outputs": []
    },
    {
      "cell_type": "code",
      "source": [
        "photos,labels = list(),list()"
      ],
      "metadata": {
        "id": "4dqlmUxEfuhN"
      },
      "execution_count": null,
      "outputs": []
    },
    {
      "cell_type": "code",
      "source": [
        "for file in listdir(folder):\n",
        "  output=0.0\n",
        "  if file.startswith('500k'):\n",
        "    output=1.0\n",
        "  if file.startswith('200k'):\n",
        "    output=2.0\n",
        "  if file.startswith('100k'):\n",
        "    output=3.0\n",
        "  if file.startswith('50k'):\n",
        "    output=4.0\n",
        "  if file.startswith('20k'):\n",
        "    output=5.0\n",
        "  if file.startswith('10k'):\n",
        "    output=6.0\n",
        "  if file.startswith('5k'):\n",
        "    output=7.0\n",
        "  if file.startswith('2k'):\n",
        "    output=8.0\n",
        "  if file.startswith('1k'):\n",
        "    output=9.0\n",
        "  photo = load_img(folder+file,target_size=(100,100))\n",
        "  photo = img_to_array(photo)\n",
        "  photos.append(photo)\n",
        "  labels.append(output)"
      ],
      "metadata": {
        "id": "sTr0hEADP5jK"
      },
      "execution_count": null,
      "outputs": []
    },
    {
      "cell_type": "code",
      "source": [
        "photos = asarray(photos)\n",
        "labels = asarray(labels)\n",
        "save('/content/drive/MyDrive/Colab Notebooks/photo_money.npy',photos)\n",
        "save('/content/drive/MyDrive/Colab Notebooks/label_money.npy',labels)"
      ],
      "metadata": {
        "id": "mfavJFtHP5lX"
      },
      "execution_count": null,
      "outputs": []
    },
    {
      "cell_type": "code",
      "source": [
        "photos.shape"
      ],
      "metadata": {
        "colab": {
          "base_uri": "https://localhost:8080/"
        },
        "id": "gdbklyJqP56z",
        "outputId": "f02acfbe-e661-447b-d869-3883848edfba"
      },
      "execution_count": null,
      "outputs": [
        {
          "output_type": "execute_result",
          "data": {
            "text/plain": [
              "(900, 100, 100, 3)"
            ]
          },
          "metadata": {},
          "execution_count": 7
        }
      ]
    },
    {
      "cell_type": "code",
      "source": [
        "labels.shape"
      ],
      "metadata": {
        "colab": {
          "base_uri": "https://localhost:8080/"
        },
        "id": "SYY3eXetP59B",
        "outputId": "48cca593-6c5f-4c79-c1d7-d50f98727c03"
      },
      "execution_count": null,
      "outputs": [
        {
          "output_type": "execute_result",
          "data": {
            "text/plain": [
              "(900,)"
            ]
          },
          "metadata": {},
          "execution_count": 8
        }
      ]
    },
    {
      "cell_type": "code",
      "source": [
        "from sklearn.model_selection import train_test_split"
      ],
      "metadata": {
        "id": "ciuXocTjb3Ln"
      },
      "execution_count": null,
      "outputs": []
    },
    {
      "cell_type": "code",
      "source": [
        "train_x, test_x, train_y,  test_y = train_test_split(photos,labels, test_size=0.3, train_size=0.7)\n",
        "     "
      ],
      "metadata": {
        "id": "mps96G9Xb3N-"
      },
      "execution_count": null,
      "outputs": []
    },
    {
      "cell_type": "code",
      "source": [
        "train_x.shape"
      ],
      "metadata": {
        "id": "-wD-0gZ5b3P8",
        "colab": {
          "base_uri": "https://localhost:8080/"
        },
        "outputId": "4b508361-02b2-492c-bdd6-1e6323f39931"
      },
      "execution_count": null,
      "outputs": [
        {
          "output_type": "execute_result",
          "data": {
            "text/plain": [
              "(630, 100, 100, 3)"
            ]
          },
          "metadata": {},
          "execution_count": 11
        }
      ]
    },
    {
      "cell_type": "code",
      "source": [
        "test_x.shape"
      ],
      "metadata": {
        "id": "h5c9YnYhb3Sb",
        "colab": {
          "base_uri": "https://localhost:8080/"
        },
        "outputId": "70094ee2-9f4f-4a2d-891d-07e5759a7dd2"
      },
      "execution_count": null,
      "outputs": [
        {
          "output_type": "execute_result",
          "data": {
            "text/plain": [
              "(270, 100, 100, 3)"
            ]
          },
          "metadata": {},
          "execution_count": 12
        }
      ]
    },
    {
      "cell_type": "code",
      "source": [
        "train_x = train_x.astype('float32')\n",
        "train_x = train_x/255"
      ],
      "metadata": {
        "id": "LfJpC5ptb9gl"
      },
      "execution_count": null,
      "outputs": []
    },
    {
      "cell_type": "code",
      "source": [
        "test_x = test_x.astype('float32')\n",
        "test_x = test_x/255"
      ],
      "metadata": {
        "id": "h0oJ_tYhb9i0"
      },
      "execution_count": null,
      "outputs": []
    },
    {
      "cell_type": "code",
      "source": [
        "from keras.utils import to_categorical\n",
        "y_train = to_categorical(train_y)\n",
        "y_test = to_categorical(test_y)"
      ],
      "metadata": {
        "id": "Rs6wAKhnb9k9"
      },
      "execution_count": null,
      "outputs": []
    },
    {
      "cell_type": "code",
      "source": [
        "train_x.shape"
      ],
      "metadata": {
        "id": "284bm1bKb9nY",
        "colab": {
          "base_uri": "https://localhost:8080/"
        },
        "outputId": "3ff8c63f-e208-4af4-de58-7a621a233756"
      },
      "execution_count": null,
      "outputs": [
        {
          "output_type": "execute_result",
          "data": {
            "text/plain": [
              "(630, 100, 100, 3)"
            ]
          },
          "metadata": {},
          "execution_count": 16
        }
      ]
    },
    {
      "cell_type": "code",
      "source": [
        "y_train.shape"
      ],
      "metadata": {
        "id": "bEfA1NF6cCZQ",
        "colab": {
          "base_uri": "https://localhost:8080/"
        },
        "outputId": "7cc217d9-ca70-4412-d9bb-0d7b08514eb9"
      },
      "execution_count": null,
      "outputs": [
        {
          "output_type": "execute_result",
          "data": {
            "text/plain": [
              "(630, 10)"
            ]
          },
          "metadata": {},
          "execution_count": 17
        }
      ]
    },
    {
      "cell_type": "code",
      "source": [
        "from keras import Sequential,Model,Input\n",
        "from keras.layers import Dense,Flatten,Dropout, Conv2D, MaxPooling2D,Normalization\n",
        "from keras.optimizers import Adam"
      ],
      "metadata": {
        "id": "9qu5uCtZcCbi"
      },
      "execution_count": null,
      "outputs": []
    },
    {
      "cell_type": "code",
      "source": [
        "batch_size = 100\n",
        "epochs = 10\n",
        "classes = 10"
      ],
      "metadata": {
        "id": "y3zQ5OuScCdc"
      },
      "execution_count": null,
      "outputs": []
    },
    {
      "cell_type": "code",
      "source": [
        "model = Sequential()\n",
        "model.add(Conv2D(32,kernel_size=(3,3),activation='linear',input_shape=(100,100,3),padding='same'))"
      ],
      "metadata": {
        "id": "EesxA09qcIhM"
      },
      "execution_count": null,
      "outputs": []
    },
    {
      "cell_type": "code",
      "source": [
        "from keras.layers import LeakyReLU\n",
        "model.add(LeakyReLU(alpha=0.1))\n",
        "model.add(MaxPooling2D((2,2),padding='same'))\n",
        "\n",
        "model.add(Conv2D(64,(3,3),activation='linear',padding='same'))\n",
        "model.add(LeakyReLU(alpha=0.1))\n",
        "model.add(MaxPooling2D((2,2),padding='same'))\n",
        "\n",
        "model.add(Conv2D(128,(3,3),activation='linear',padding='same'))\n",
        "model.add(LeakyReLU(alpha=0.1))\n",
        "model.add(MaxPooling2D((2,2),padding='same'))"
      ],
      "metadata": {
        "id": "_OWbyD_3cIjf"
      },
      "execution_count": null,
      "outputs": []
    },
    {
      "cell_type": "code",
      "source": [
        "model.add(Flatten())"
      ],
      "metadata": {
        "id": "d7yjuUPkcImG"
      },
      "execution_count": null,
      "outputs": []
    },
    {
      "cell_type": "code",
      "source": [
        "model.add(Dense(700,activation='linear'))\n",
        "model.add(Dropout(0.5))\n",
        "model.add(Dense(classes,activation='softmax'))"
      ],
      "metadata": {
        "id": "vQUrerjYcIoY"
      },
      "execution_count": null,
      "outputs": []
    },
    {
      "cell_type": "code",
      "source": [
        "model.summary()"
      ],
      "metadata": {
        "id": "h9DzsahycPME",
        "colab": {
          "base_uri": "https://localhost:8080/"
        },
        "outputId": "98e70a2a-fd15-437e-bdf5-cd05297c2426"
      },
      "execution_count": null,
      "outputs": [
        {
          "output_type": "stream",
          "name": "stdout",
          "text": [
            "Model: \"sequential\"\n",
            "_________________________________________________________________\n",
            " Layer (type)                Output Shape              Param #   \n",
            "=================================================================\n",
            " conv2d (Conv2D)             (None, 100, 100, 32)      896       \n",
            "                                                                 \n",
            " leaky_re_lu (LeakyReLU)     (None, 100, 100, 32)      0         \n",
            "                                                                 \n",
            " max_pooling2d (MaxPooling2D  (None, 50, 50, 32)       0         \n",
            " )                                                               \n",
            "                                                                 \n",
            " conv2d_1 (Conv2D)           (None, 50, 50, 64)        18496     \n",
            "                                                                 \n",
            " leaky_re_lu_1 (LeakyReLU)   (None, 50, 50, 64)        0         \n",
            "                                                                 \n",
            " max_pooling2d_1 (MaxPooling  (None, 25, 25, 64)       0         \n",
            " 2D)                                                             \n",
            "                                                                 \n",
            " conv2d_2 (Conv2D)           (None, 25, 25, 128)       73856     \n",
            "                                                                 \n",
            " leaky_re_lu_2 (LeakyReLU)   (None, 25, 25, 128)       0         \n",
            "                                                                 \n",
            " max_pooling2d_2 (MaxPooling  (None, 13, 13, 128)      0         \n",
            " 2D)                                                             \n",
            "                                                                 \n",
            " flatten (Flatten)           (None, 21632)             0         \n",
            "                                                                 \n",
            " dense (Dense)               (None, 700)               15143100  \n",
            "                                                                 \n",
            " dropout (Dropout)           (None, 700)               0         \n",
            "                                                                 \n",
            " dense_1 (Dense)             (None, 10)                7010      \n",
            "                                                                 \n",
            "=================================================================\n",
            "Total params: 15,243,358\n",
            "Trainable params: 15,243,358\n",
            "Non-trainable params: 0\n",
            "_________________________________________________________________\n"
          ]
        }
      ]
    },
    {
      "cell_type": "code",
      "source": [
        "from keras.backend import categorical_crossentropy\n",
        "model.compile(loss='categorical_crossentropy', optimizer=Adam(),metrics =['accuracy'])"
      ],
      "metadata": {
        "id": "b6_UeC8LcPO2"
      },
      "execution_count": null,
      "outputs": []
    },
    {
      "cell_type": "code",
      "source": [
        "train = model.fit(train_x,y_train,batch_size=64,epochs=15,verbose=1)\n",
        "test_loss, test_acc = model.evaluate(test_x, y_test)\n",
        "print(\"Accuracy:\", test_acc)\n",
        "print('Loss:', test_loss)"
      ],
      "metadata": {
        "id": "EsIAfu59cPRG",
        "colab": {
          "base_uri": "https://localhost:8080/"
        },
        "outputId": "845c23dc-a9eb-4665-8d7b-6a72ab440a84"
      },
      "execution_count": null,
      "outputs": [
        {
          "output_type": "stream",
          "name": "stdout",
          "text": [
            "Epoch 1/15\n",
            "10/10 [==============================] - 9s 75ms/step - loss: 3.1176 - accuracy: 0.1317\n",
            "Epoch 2/15\n",
            "10/10 [==============================] - 0s 29ms/step - loss: 1.6905 - accuracy: 0.4413\n",
            "Epoch 3/15\n",
            "10/10 [==============================] - 0s 29ms/step - loss: 0.8578 - accuracy: 0.7143\n",
            "Epoch 4/15\n",
            "10/10 [==============================] - 0s 29ms/step - loss: 0.4093 - accuracy: 0.8540\n",
            "Epoch 5/15\n",
            "10/10 [==============================] - 0s 30ms/step - loss: 0.2707 - accuracy: 0.9032\n",
            "Epoch 6/15\n",
            "10/10 [==============================] - 0s 30ms/step - loss: 0.1697 - accuracy: 0.9429\n",
            "Epoch 7/15\n",
            "10/10 [==============================] - 0s 30ms/step - loss: 0.0821 - accuracy: 0.9730\n",
            "Epoch 8/15\n",
            "10/10 [==============================] - 0s 29ms/step - loss: 0.0414 - accuracy: 0.9857\n",
            "Epoch 9/15\n",
            "10/10 [==============================] - 0s 29ms/step - loss: 0.0157 - accuracy: 0.9968\n",
            "Epoch 10/15\n",
            "10/10 [==============================] - 0s 29ms/step - loss: 0.0155 - accuracy: 0.9968\n",
            "Epoch 11/15\n",
            "10/10 [==============================] - 0s 29ms/step - loss: 0.0087 - accuracy: 0.9984\n",
            "Epoch 12/15\n",
            "10/10 [==============================] - 0s 29ms/step - loss: 0.0051 - accuracy: 1.0000\n",
            "Epoch 13/15\n",
            "10/10 [==============================] - 0s 29ms/step - loss: 0.0024 - accuracy: 1.0000\n",
            "Epoch 14/15\n",
            "10/10 [==============================] - 0s 29ms/step - loss: 0.0033 - accuracy: 1.0000\n",
            "Epoch 15/15\n",
            "10/10 [==============================] - 0s 29ms/step - loss: 0.0049 - accuracy: 1.0000\n",
            "9/9 [==============================] - 1s 22ms/step - loss: 0.0058 - accuracy: 0.9963\n",
            "Accuracy: 0.9962962865829468\n",
            "Loss: 0.005802013445645571\n"
          ]
        }
      ]
    },
    {
      "cell_type": "code",
      "source": [
        "model.save('/content/drive/MyDrive/Colab Notebooks/Predict_money.h5')"
      ],
      "metadata": {
        "id": "p3rHFMxHcUDc"
      },
      "execution_count": null,
      "outputs": []
    },
    {
      "cell_type": "code",
      "source": [
        "#test mo hinh\n",
        "from keras.utils import load_img, img_to_array\n",
        "import matplotlib.pyplot as plt\n",
        "import numpy as np\n",
        "img = load_img('test.jpg',target_size=(100,100,3))\n",
        "plt.imshow(img)\n",
        "img = img_to_array(img)\n",
        "img = img.reshape(1,100,100,3)\n",
        "img = img.astype('float32')\n",
        "img = img/255\n",
        "a = np.argmax(model.predict(img),axis=-1)\n",
        "print(a)\n",
        "if(a == 1):\n",
        "  print(\"Đây là 500k\")\n",
        "if (a == 2):\n",
        "  print(\"Đây là 200k\")\n",
        "if (a == 3):\n",
        "  print(\"Đây là 100k\")\n",
        "if (a == 4):\n",
        "  print(\"Đây là 50k\")\n",
        "if (a == 5):\n",
        "  print(\"Đây là 20k\")\n",
        "if (a == 6):\n",
        "  print(\"Đây là 10k\")\n",
        "if (a == 7):\n",
        "  print(\"Đây là 5k\")\n",
        "if (a == 8):\n",
        "  print(\"Đây là 2k\")\n",
        "if (a == 9):\n",
        "  print(\"Đây là 1k\")"
      ],
      "metadata": {
        "id": "7UFX2V1gcUF6",
        "colab": {
          "base_uri": "https://localhost:8080/",
          "height": 485
        },
        "outputId": "87cefd96-7195-42a4-c577-3f5f9f8da9bd"
      },
      "execution_count": null,
      "outputs": [
        {
          "output_type": "stream",
          "name": "stdout",
          "text": [
            "1/1 [==============================] - 0s 197ms/step\n",
            "[9]\n",
            "Đây là 1k\n"
          ]
        },
        {
          "output_type": "display_data",
          "data": {
            "text/plain": [
              "<Figure size 640x480 with 1 Axes>"
            ],
            "image/png": "[encoded data removed]"
          },
          "metadata": {}
        }
      ]
    }
  ]
}