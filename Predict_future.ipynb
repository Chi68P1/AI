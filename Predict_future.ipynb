{
  "nbformat": 4,
  "nbformat_minor": 0,
  "metadata": {
    "colab": {
      "provenance": [],
      "authorship_tag": "ABX9TyMzU7Pu8eeLHNaYEp+XAJmw",
      "include_colab_link": true
    },
    "kernelspec": {
      "name": "python3",
      "display_name": "Python 3"
    },
    "language_info": {
      "name": "python"
    },
    "accelerator": "GPU",
    "gpuClass": "standard"
  },
  "cells": [
    {
      "cell_type": "markdown",
      "metadata": {
        "id": "view-in-github",
        "colab_type": "text"
      },
      "source": [
        "<a href=\"https://colab.research.google.com/github/Chi68P1/AI/blob/main/Predict_future.ipynb\" target=\"_parent\"><img src=\"https://colab.research.google.com/assets/colab-badge.svg\" alt=\"Open In Colab\"/></a>"
      ]
    },
    {
      "cell_type": "code",
      "execution_count": null,
      "metadata": {
        "id": "ePWU35wbPtMA"
      },
      "outputs": [],
      "source": [
        "from os import listdir\n",
        "from numpy import asarray\n",
        "from numpy import save\n",
        "from keras.utils.image_utils import img_to_array\n",
        "from keras.utils import load_img"
      ]
    },
    {
      "cell_type": "code",
      "execution_count": null,
      "metadata": {
        "colab": {
          "base_uri": "https://localhost:8080/"
        },
        "id": "qJvJlGVdg2dA",
        "outputId": "1de99b40-9061-49b3-8537-361799e612e9"
      },
      "outputs": [
        {
          "output_type": "stream",
          "name": "stdout",
          "text": [
            "Mounted at /content/drive\n"
          ]
        }
      ],
      "source": [
        "from google.colab import drive\n",
        "drive.mount('/content/drive')"
      ]
    },
    {
      "cell_type": "code",
      "execution_count": null,
      "metadata": {
        "id": "7gdnF779P5gy"
      },
      "outputs": [],
      "source": [
        "\n",
        "folder='/content/drive/MyDrive/Colab Notebooks/Palm/'"
      ]
    },
    {
      "cell_type": "code",
      "execution_count": null,
      "metadata": {
        "id": "4dqlmUxEfuhN"
      },
      "outputs": [],
      "source": [
        "photos,labels = list(),list()"
      ]
    },
    {
      "cell_type": "code",
      "execution_count": null,
      "metadata": {
        "id": "sTr0hEADP5jK"
      },
      "outputs": [],
      "source": [
        "for file in listdir(folder):\n",
        "  output=0.0\n",
        "  if file.startswith('chutich'):\n",
        "    output=1.0\n",
        "  if file.startswith('daohoa'):\n",
        "    output=2.0\n",
        "  if file.startswith('e'):\n",
        "    output=3.0\n",
        "  if file.startswith('giau'):\n",
        "    output=4.0\n",
        "  if file.startswith('hanhphuc'):\n",
        "    output=5.0\n",
        "  if file.startswith('ngheo'):\n",
        "    output=6.0\n",
        "  if file.startswith('rotmon'):\n",
        "    output=7.0\n",
        "  photo = load_img(folder+file,target_size=(100,100))\n",
        "  photo = img_to_array(photo)\n",
        "  photos.append(photo)\n",
        "  labels.append(output)"
      ]
    },
    {
      "cell_type": "code",
      "execution_count": null,
      "metadata": {
        "id": "mfavJFtHP5lX"
      },
      "outputs": [],
      "source": [
        "photos = asarray(photos)\n",
        "labels = asarray(labels)\n",
        "save('/content/drive/MyDrive/Colab Notebooks/photo_palm.npy',photos)\n",
        "save('/content/drive/MyDrive/Colab Notebooks/label_palm.npy',labels)"
      ]
    },
    {
      "cell_type": "code",
      "execution_count": null,
      "metadata": {
        "colab": {
          "base_uri": "https://localhost:8080/"
        },
        "id": "gdbklyJqP56z",
        "outputId": "874cacfe-1bd9-4a52-af4d-0248d1a80b7b"
      },
      "outputs": [
        {
          "output_type": "execute_result",
          "data": {
            "text/plain": [
              "(300, 100, 100, 3)"
            ]
          },
          "metadata": {},
          "execution_count": 7
        }
      ],
      "source": [
        "photos.shape"
      ]
    },
    {
      "cell_type": "code",
      "execution_count": null,
      "metadata": {
        "colab": {
          "base_uri": "https://localhost:8080/"
        },
        "id": "SYY3eXetP59B",
        "outputId": "4bba1f4f-3d59-4a11-9c47-33e0dcde220f"
      },
      "outputs": [
        {
          "output_type": "execute_result",
          "data": {
            "text/plain": [
              "(300,)"
            ]
          },
          "metadata": {},
          "execution_count": 8
        }
      ],
      "source": [
        "labels.shape"
      ]
    },
    {
      "cell_type": "code",
      "execution_count": null,
      "metadata": {
        "id": "ciuXocTjb3Ln"
      },
      "outputs": [],
      "source": [
        "from sklearn.model_selection import train_test_split"
      ]
    },
    {
      "cell_type": "code",
      "execution_count": null,
      "metadata": {
        "id": "mps96G9Xb3N-"
      },
      "outputs": [],
      "source": [
        "train_x, test_x, train_y,  test_y = train_test_split(photos,labels, test_size=0.3, train_size=0.7)\n",
        "     "
      ]
    },
    {
      "cell_type": "code",
      "execution_count": null,
      "metadata": {
        "colab": {
          "base_uri": "https://localhost:8080/"
        },
        "id": "-wD-0gZ5b3P8",
        "outputId": "fc415775-ea8f-4537-ac12-8ea360e2e768"
      },
      "outputs": [
        {
          "output_type": "execute_result",
          "data": {
            "text/plain": [
              "(210, 100, 100, 3)"
            ]
          },
          "metadata": {},
          "execution_count": 11
        }
      ],
      "source": [
        "train_x.shape"
      ]
    },
    {
      "cell_type": "code",
      "execution_count": null,
      "metadata": {
        "colab": {
          "base_uri": "https://localhost:8080/"
        },
        "id": "h5c9YnYhb3Sb",
        "outputId": "e4e9d52f-0654-40ae-a1b7-fbdec61f0587"
      },
      "outputs": [
        {
          "output_type": "execute_result",
          "data": {
            "text/plain": [
              "(90, 100, 100, 3)"
            ]
          },
          "metadata": {},
          "execution_count": 12
        }
      ],
      "source": [
        "test_x.shape"
      ]
    },
    {
      "cell_type": "code",
      "execution_count": null,
      "metadata": {
        "id": "LfJpC5ptb9gl"
      },
      "outputs": [],
      "source": [
        "train_x = train_x.astype('float32')\n",
        "train_x = train_x/255"
      ]
    },
    {
      "cell_type": "code",
      "execution_count": null,
      "metadata": {
        "id": "h0oJ_tYhb9i0"
      },
      "outputs": [],
      "source": [
        "test_x = test_x.astype('float32')\n",
        "test_x = test_x/255"
      ]
    },
    {
      "cell_type": "code",
      "execution_count": null,
      "metadata": {
        "id": "Rs6wAKhnb9k9"
      },
      "outputs": [],
      "source": [
        "from keras.utils import to_categorical\n",
        "y_train = to_categorical(train_y)\n",
        "y_test = to_categorical(test_y)"
      ]
    },
    {
      "cell_type": "code",
      "execution_count": null,
      "metadata": {
        "colab": {
          "base_uri": "https://localhost:8080/"
        },
        "id": "284bm1bKb9nY",
        "outputId": "b15d5f9d-1f6b-4daa-b398-ad27aacfa344"
      },
      "outputs": [
        {
          "output_type": "execute_result",
          "data": {
            "text/plain": [
              "(210, 100, 100, 3)"
            ]
          },
          "metadata": {},
          "execution_count": 16
        }
      ],
      "source": [
        "train_x.shape"
      ]
    },
    {
      "cell_type": "code",
      "execution_count": null,
      "metadata": {
        "colab": {
          "base_uri": "https://localhost:8080/"
        },
        "id": "bEfA1NF6cCZQ",
        "outputId": "4e7db8b4-c4f5-49f5-bbc7-aa20bf8db987"
      },
      "outputs": [
        {
          "output_type": "execute_result",
          "data": {
            "text/plain": [
              "(210, 8)"
            ]
          },
          "metadata": {},
          "execution_count": 17
        }
      ],
      "source": [
        "y_train.shape"
      ]
    },
    {
      "cell_type": "code",
      "execution_count": null,
      "metadata": {
        "id": "9qu5uCtZcCbi"
      },
      "outputs": [],
      "source": [
        "from keras import Sequential,Model,Input\n",
        "from keras.layers import Dense,Flatten,Dropout, Conv2D, MaxPooling2D,Normalization\n",
        "from keras.optimizers import Adam"
      ]
    },
    {
      "cell_type": "code",
      "execution_count": null,
      "metadata": {
        "id": "y3zQ5OuScCdc"
      },
      "outputs": [],
      "source": [
        "batch_size = 100\n",
        "epochs = 10\n",
        "classes = 8"
      ]
    },
    {
      "cell_type": "code",
      "execution_count": null,
      "metadata": {
        "id": "EesxA09qcIhM"
      },
      "outputs": [],
      "source": [
        "model = Sequential()\n",
        "model.add(Conv2D(32,kernel_size=(3,3),activation='linear',input_shape=(100,100,3),padding='same'))"
      ]
    },
    {
      "cell_type": "code",
      "execution_count": null,
      "metadata": {
        "id": "_OWbyD_3cIjf"
      },
      "outputs": [],
      "source": [
        "from keras.layers import LeakyReLU\n",
        "model.add(LeakyReLU(alpha=0.1))\n",
        "model.add(MaxPooling2D((2,2),padding='same'))\n",
        "\n",
        "model.add(Conv2D(64,(3,3),activation='linear',padding='same'))\n",
        "model.add(LeakyReLU(alpha=0.1))\n",
        "model.add(MaxPooling2D((2,2),padding='same'))\n",
        "\n",
        "model.add(Conv2D(128,(3,3),activation='linear',padding='same'))\n",
        "model.add(LeakyReLU(alpha=0.1))\n",
        "model.add(MaxPooling2D((2,2),padding='same'))"
      ]
    },
    {
      "cell_type": "code",
      "execution_count": null,
      "metadata": {
        "id": "d7yjuUPkcImG"
      },
      "outputs": [],
      "source": [
        "model.add(Flatten())"
      ]
    },
    {
      "cell_type": "code",
      "execution_count": null,
      "metadata": {
        "id": "vQUrerjYcIoY"
      },
      "outputs": [],
      "source": [
        "model.add(Dense(700,activation='linear'))\n",
        "model.add(Dropout(0.5))\n",
        "model.add(Dense(classes,activation='softmax'))"
      ]
    },
    {
      "cell_type": "code",
      "execution_count": null,
      "metadata": {
        "colab": {
          "base_uri": "https://localhost:8080/"
        },
        "id": "h9DzsahycPME",
        "outputId": "cc10ec3f-bf08-428e-deb2-a9a80cc589e0"
      },
      "outputs": [
        {
          "output_type": "stream",
          "name": "stdout",
          "text": [
            "Model: \"sequential\"\n",
            "_________________________________________________________________\n",
            " Layer (type)                Output Shape              Param #   \n",
            "=================================================================\n",
            " conv2d (Conv2D)             (None, 100, 100, 32)      896       \n",
            "                                                                 \n",
            " leaky_re_lu (LeakyReLU)     (None, 100, 100, 32)      0         \n",
            "                                                                 \n",
            " max_pooling2d (MaxPooling2D  (None, 50, 50, 32)       0         \n",
            " )                                                               \n",
            "                                                                 \n",
            " conv2d_1 (Conv2D)           (None, 50, 50, 64)        18496     \n",
            "                                                                 \n",
            " leaky_re_lu_1 (LeakyReLU)   (None, 50, 50, 64)        0         \n",
            "                                                                 \n",
            " max_pooling2d_1 (MaxPooling  (None, 25, 25, 64)       0         \n",
            " 2D)                                                             \n",
            "                                                                 \n",
            " conv2d_2 (Conv2D)           (None, 25, 25, 128)       73856     \n",
            "                                                                 \n",
            " leaky_re_lu_2 (LeakyReLU)   (None, 25, 25, 128)       0         \n",
            "                                                                 \n",
            " max_pooling2d_2 (MaxPooling  (None, 13, 13, 128)      0         \n",
            " 2D)                                                             \n",
            "                                                                 \n",
            " flatten (Flatten)           (None, 21632)             0         \n",
            "                                                                 \n",
            " dense (Dense)               (None, 700)               15143100  \n",
            "                                                                 \n",
            " dropout (Dropout)           (None, 700)               0         \n",
            "                                                                 \n",
            " dense_1 (Dense)             (None, 8)                 5608      \n",
            "                                                                 \n",
            "=================================================================\n",
            "Total params: 15,241,956\n",
            "Trainable params: 15,241,956\n",
            "Non-trainable params: 0\n",
            "_________________________________________________________________\n"
          ]
        }
      ],
      "source": [
        "model.summary()"
      ]
    },
    {
      "cell_type": "code",
      "execution_count": null,
      "metadata": {
        "id": "b6_UeC8LcPO2"
      },
      "outputs": [],
      "source": [
        "from keras.backend import categorical_crossentropy\n",
        "model.compile(loss='categorical_crossentropy', optimizer=Adam(),metrics =['accuracy'])"
      ]
    },
    {
      "cell_type": "code",
      "execution_count": null,
      "metadata": {
        "colab": {
          "base_uri": "https://localhost:8080/"
        },
        "id": "EsIAfu59cPRG",
        "outputId": "d3da3bff-4b82-4e70-9af3-e8a6a45d604d"
      },
      "outputs": [
        {
          "output_type": "stream",
          "name": "stdout",
          "text": [
            "Epoch 1/15\n",
            "4/4 [==============================] - 9s 104ms/step - loss: 4.7307 - accuracy: 0.1857\n",
            "Epoch 2/15\n",
            "4/4 [==============================] - 0s 24ms/step - loss: 4.4539 - accuracy: 0.2429\n",
            "Epoch 3/15\n",
            "4/4 [==============================] - 0s 26ms/step - loss: 1.6216 - accuracy: 0.5143\n",
            "Epoch 4/15\n",
            "4/4 [==============================] - 0s 26ms/step - loss: 1.1336 - accuracy: 0.6571\n",
            "Epoch 5/15\n",
            "4/4 [==============================] - 0s 30ms/step - loss: 0.6235 - accuracy: 0.8619\n",
            "Epoch 6/15\n",
            "4/4 [==============================] - 0s 27ms/step - loss: 0.2905 - accuracy: 0.9381\n",
            "Epoch 7/15\n",
            "4/4 [==============================] - 0s 29ms/step - loss: 0.1541 - accuracy: 0.9619\n",
            "Epoch 8/15\n",
            "4/4 [==============================] - 0s 25ms/step - loss: 0.1002 - accuracy: 0.9714\n",
            "Epoch 9/15\n",
            "4/4 [==============================] - 0s 25ms/step - loss: 0.0405 - accuracy: 0.9952\n",
            "Epoch 10/15\n",
            "4/4 [==============================] - 0s 26ms/step - loss: 0.0353 - accuracy: 0.9905\n",
            "Epoch 11/15\n",
            "4/4 [==============================] - 0s 28ms/step - loss: 0.0190 - accuracy: 0.9952\n",
            "Epoch 12/15\n",
            "4/4 [==============================] - 0s 26ms/step - loss: 0.0162 - accuracy: 0.9952\n",
            "Epoch 13/15\n",
            "4/4 [==============================] - 0s 28ms/step - loss: 0.0215 - accuracy: 0.9952\n",
            "Epoch 14/15\n",
            "4/4 [==============================] - 0s 27ms/step - loss: 0.0253 - accuracy: 0.9952\n",
            "Epoch 15/15\n",
            "4/4 [==============================] - 0s 26ms/step - loss: 0.0123 - accuracy: 0.9952\n",
            "3/3 [==============================] - 1s 67ms/step - loss: 0.0041 - accuracy: 1.0000\n",
            "Accuracy: 1.0\n",
            "Loss: 0.004075435921549797\n"
          ]
        }
      ],
      "source": [
        "train = model.fit(train_x,y_train,batch_size=64,epochs=15,verbose=1)\n",
        "test_loss, test_acc = model.evaluate(test_x, y_test)\n",
        "print(\"Accuracy:\", test_acc)\n",
        "print('Loss:', test_loss)"
      ]
    },
    {
      "cell_type": "code",
      "execution_count": null,
      "metadata": {
        "id": "p3rHFMxHcUDc"
      },
      "outputs": [],
      "source": [
        "model.save('/content/drive/MyDrive/Colab Notebooks/Predict_palm.h5')"
      ]
    },
    {
      "cell_type": "code",
      "execution_count": null,
      "metadata": {
        "colab": {
          "base_uri": "https://localhost:8080/"
        },
        "id": "7UFX2V1gcUF6",
        "outputId": "bc3e11a3-9937-4b3f-9893-5a5041e6ce8b"
      },
      "outputs": [
        {
          "output_type": "stream",
          "name": "stdout",
          "text": [
            "1/1 [==============================] - 0s 204ms/step\n",
            "[4]\n",
            "Giàu\n"
          ]
        },
        {
          "output_type": "display_data",
          "data": {
            "text/plain": [
              "<Figure size 640x480 with 1 Axes>"
            ],
            "image/png": "[encoded data removed]"
          },
          "metadata": {}
        }
      ],
      "source": [
        "#test mo hinh\n",
        "from keras.utils import load_img, img_to_array\n",
        "import matplotlib.pyplot as plt\n",
        "import numpy as np\n",
        "img = load_img('test.jpg',target_size=(100,100,3))\n",
        "plt.imshow(img)\n",
        "img = img_to_array(img)\n",
        "img = img.reshape(1,100,100,3)\n",
        "img = img.astype('float32')\n",
        "img = img/255\n",
        "a = np.argmax(model.predict(img),axis=-1)\n",
        "print(a)\n",
        "if(a == 1):\n",
        "  print(\"Chủ tịch\")\n",
        "if (a == 2):\n",
        "  print(\"Đào hoa\")\n",
        "if (a == 3):\n",
        "  print(\"Ế\")\n",
        "if (a == 4):\n",
        "  print(\"Giàu\")\n",
        "if (a == 5):\n",
        "  print(\"Hạnh phúc\")\n",
        "if (a == 6):\n",
        "  print(\"Nghèo\")\n",
        "if (a == 7):\n",
        "  print(\"Rớt môn\")"
      ]
    }
  ]
}