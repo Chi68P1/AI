{
  "nbformat": 4,
  "nbformat_minor": 0,
  "metadata": {
    "colab": {
      "provenance": [],
      "authorship_tag": "ABX9TyO0RTE0uXTW0GOtQGoopXJZ",
      "include_colab_link": true
    },
    "kernelspec": {
      "name": "python3",
      "display_name": "Python 3"
    },
    "language_info": {
      "name": "python"
    },
    "gpuClass": "standard"
  },
  "cells": [
    {
      "cell_type": "markdown",
      "metadata": {
        "id": "view-in-github",
        "colab_type": "text"
      },
      "source": [
        "<a href=\"https://colab.research.google.com/github/Chi68P1/AI/blob/main/Predict_flowers.ipynb\" target=\"_parent\"><img src=\"https://colab.research.google.com/assets/colab-badge.svg\" alt=\"Open In Colab\"/></a>"
      ]
    },
    {
      "cell_type": "code",
      "execution_count": null,
      "metadata": {
        "id": "ePWU35wbPtMA"
      },
      "outputs": [],
      "source": [
        "from os import listdir\n",
        "from numpy import asarray\n",
        "from numpy import save\n",
        "from keras.utils.image_utils import img_to_array\n",
        "from keras.utils import load_img"
      ]
    },
    {
      "cell_type": "code",
      "source": [
        "from google.colab import drive\n",
        "drive.mount('/content/drive')"
      ],
      "metadata": {
        "colab": {
          "base_uri": "https://localhost:8080/"
        },
        "id": "qJvJlGVdg2dA",
        "outputId": "c1778fa8-997f-4b03-8f01-ed295518561f"
      },
      "execution_count": null,
      "outputs": [
        {
          "output_type": "stream",
          "name": "stdout",
          "text": [
            "Mounted at /content/drive\n"
          ]
        }
      ]
    },
    {
      "cell_type": "code",
      "source": [
        "\n",
        "folder='/content/drive/MyDrive/Colab Notebooks/Flowers/'"
      ],
      "metadata": {
        "id": "7gdnF779P5gy"
      },
      "execution_count": null,
      "outputs": []
    },
    {
      "cell_type": "code",
      "source": [
        "photos,labels = list(),list()"
      ],
      "metadata": {
        "id": "4dqlmUxEfuhN"
      },
      "execution_count": null,
      "outputs": []
    },
    {
      "cell_type": "code",
      "source": [
        "for file in listdir(folder):\n",
        "  output=0.0\n",
        "  if file.startswith('rose'):\n",
        "    output=1.0\n",
        "  if file.startswith('lotus'):\n",
        "    output=2.0\n",
        "  if file.startswith('sun_flower'):\n",
        "    output=3.0\n",
        "  if file.startswith('blossom'):\n",
        "    output=4.0\n",
        "  if file.startswith('daisy'):\n",
        "    output=5.0\n",
        "  photo = load_img(folder+file,target_size=(100,100))\n",
        "  photo = img_to_array(photo)\n",
        "  photos.append(photo)\n",
        "  labels.append(output)"
      ],
      "metadata": {
        "id": "sTr0hEADP5jK",
        "colab": {
          "base_uri": "https://localhost:8080/"
        },
        "outputId": "3cd91a87-f620-45ab-d4e8-fd1edb092792"
      },
      "execution_count": null,
      "outputs": [
        {
          "output_type": "stream",
          "name": "stderr",
          "text": [
            "/usr/local/lib/python3.9/dist-packages/PIL/TiffImagePlugin.py:819: UserWarning: Corrupt EXIF data.  Expecting to read 4 bytes but only got 2. \n",
            "  warnings.warn(str(msg))\n"
          ]
        }
      ]
    },
    {
      "cell_type": "code",
      "source": [
        "photos = asarray(photos)\n",
        "labels = asarray(labels)\n",
        "save('/content/drive/MyDrive/Colab Notebooks/photo_flower.npy',photos)\n",
        "save('/content/drive/MyDrive/Colab Notebooks/label_flower.npy',labels)"
      ],
      "metadata": {
        "id": "mfavJFtHP5lX"
      },
      "execution_count": null,
      "outputs": []
    },
    {
      "cell_type": "code",
      "source": [
        "photos.shape"
      ],
      "metadata": {
        "colab": {
          "base_uri": "https://localhost:8080/"
        },
        "id": "gdbklyJqP56z",
        "outputId": "921e2e79-ce89-49d7-dee6-5aeaa33905d8"
      },
      "execution_count": null,
      "outputs": [
        {
          "output_type": "execute_result",
          "data": {
            "text/plain": [
              "(500, 100, 100, 3)"
            ]
          },
          "metadata": {},
          "execution_count": 7
        }
      ]
    },
    {
      "cell_type": "code",
      "source": [
        "labels.shape"
      ],
      "metadata": {
        "colab": {
          "base_uri": "https://localhost:8080/"
        },
        "id": "SYY3eXetP59B",
        "outputId": "262074c2-649e-498e-d0f2-31de432d4ea9"
      },
      "execution_count": null,
      "outputs": [
        {
          "output_type": "execute_result",
          "data": {
            "text/plain": [
              "(500,)"
            ]
          },
          "metadata": {},
          "execution_count": 8
        }
      ]
    },
    {
      "cell_type": "code",
      "source": [
        "from sklearn.model_selection import train_test_split"
      ],
      "metadata": {
        "id": "ciuXocTjb3Ln"
      },
      "execution_count": null,
      "outputs": []
    },
    {
      "cell_type": "code",
      "source": [
        "train_x, test_x, train_y,  test_y = train_test_split(photos,labels, test_size=0.3, train_size=0.7)\n",
        "     "
      ],
      "metadata": {
        "id": "mps96G9Xb3N-"
      },
      "execution_count": null,
      "outputs": []
    },
    {
      "cell_type": "code",
      "source": [
        "train_x.shape"
      ],
      "metadata": {
        "id": "-wD-0gZ5b3P8",
        "colab": {
          "base_uri": "https://localhost:8080/"
        },
        "outputId": "124866c5-4a05-4245-cca6-cd24d45cc4d3"
      },
      "execution_count": null,
      "outputs": [
        {
          "output_type": "execute_result",
          "data": {
            "text/plain": [
              "(350, 100, 100, 3)"
            ]
          },
          "metadata": {},
          "execution_count": 11
        }
      ]
    },
    {
      "cell_type": "code",
      "source": [
        "test_x.shape"
      ],
      "metadata": {
        "id": "h5c9YnYhb3Sb",
        "colab": {
          "base_uri": "https://localhost:8080/"
        },
        "outputId": "a2fdfd68-4724-406c-8a45-9e410e908171"
      },
      "execution_count": null,
      "outputs": [
        {
          "output_type": "execute_result",
          "data": {
            "text/plain": [
              "(150, 100, 100, 3)"
            ]
          },
          "metadata": {},
          "execution_count": 12
        }
      ]
    },
    {
      "cell_type": "code",
      "source": [
        "train_x = train_x.astype('float32')\n",
        "train_x = train_x/255"
      ],
      "metadata": {
        "id": "LfJpC5ptb9gl"
      },
      "execution_count": null,
      "outputs": []
    },
    {
      "cell_type": "code",
      "source": [
        "test_x = test_x.astype('float32')\n",
        "test_x = test_x/255"
      ],
      "metadata": {
        "id": "h0oJ_tYhb9i0"
      },
      "execution_count": null,
      "outputs": []
    },
    {
      "cell_type": "code",
      "source": [
        "from keras.utils import to_categorical\n",
        "y_train = to_categorical(train_y)\n",
        "y_test = to_categorical(test_y)"
      ],
      "metadata": {
        "id": "Rs6wAKhnb9k9"
      },
      "execution_count": null,
      "outputs": []
    },
    {
      "cell_type": "code",
      "source": [
        "train_x.shape"
      ],
      "metadata": {
        "id": "284bm1bKb9nY",
        "colab": {
          "base_uri": "https://localhost:8080/"
        },
        "outputId": "02296946-7dbb-42f6-a4f3-0e3b68d58901"
      },
      "execution_count": null,
      "outputs": [
        {
          "output_type": "execute_result",
          "data": {
            "text/plain": [
              "(350, 100, 100, 3)"
            ]
          },
          "metadata": {},
          "execution_count": 16
        }
      ]
    },
    {
      "cell_type": "code",
      "source": [
        "y_train.shape"
      ],
      "metadata": {
        "id": "bEfA1NF6cCZQ",
        "colab": {
          "base_uri": "https://localhost:8080/"
        },
        "outputId": "a8712d41-c66f-4ef7-ea0f-17e7f59c8532"
      },
      "execution_count": null,
      "outputs": [
        {
          "output_type": "execute_result",
          "data": {
            "text/plain": [
              "(350, 6)"
            ]
          },
          "metadata": {},
          "execution_count": 17
        }
      ]
    },
    {
      "cell_type": "code",
      "source": [
        "from keras import Sequential,Model,Input\n",
        "from keras.layers import Dense,Flatten,Dropout, Conv2D, MaxPooling2D,Normalization\n",
        "from keras.optimizers import Adam"
      ],
      "metadata": {
        "id": "9qu5uCtZcCbi"
      },
      "execution_count": null,
      "outputs": []
    },
    {
      "cell_type": "code",
      "source": [
        "batch_size = 100\n",
        "epochs = 10\n",
        "classes = 6"
      ],
      "metadata": {
        "id": "y3zQ5OuScCdc"
      },
      "execution_count": null,
      "outputs": []
    },
    {
      "cell_type": "code",
      "source": [
        "model = Sequential()\n",
        "model.add(Conv2D(32,kernel_size=(3,3),activation='linear',input_shape=(100,100,3),padding='same'))"
      ],
      "metadata": {
        "id": "EesxA09qcIhM"
      },
      "execution_count": null,
      "outputs": []
    },
    {
      "cell_type": "code",
      "source": [
        "from keras.layers import LeakyReLU\n",
        "model.add(LeakyReLU(alpha=0.1))\n",
        "model.add(MaxPooling2D((2,2),padding='same'))\n",
        "\n",
        "model.add(Conv2D(64,(3,3),activation='linear',padding='same'))\n",
        "model.add(LeakyReLU(alpha=0.1))\n",
        "model.add(MaxPooling2D((2,2),padding='same'))\n",
        "\n",
        "model.add(Conv2D(128,(3,3),activation='linear',padding='same'))\n",
        "model.add(LeakyReLU(alpha=0.1))\n",
        "model.add(MaxPooling2D((2,2),padding='same'))"
      ],
      "metadata": {
        "id": "_OWbyD_3cIjf"
      },
      "execution_count": null,
      "outputs": []
    },
    {
      "cell_type": "code",
      "source": [
        "model.add(Flatten())"
      ],
      "metadata": {
        "id": "d7yjuUPkcImG"
      },
      "execution_count": null,
      "outputs": []
    },
    {
      "cell_type": "code",
      "source": [
        "model.add(Dense(700,activation='linear'))\n",
        "model.add(Dropout(0.5))\n",
        "model.add(Dense(classes,activation='softmax'))"
      ],
      "metadata": {
        "id": "vQUrerjYcIoY"
      },
      "execution_count": null,
      "outputs": []
    },
    {
      "cell_type": "code",
      "source": [
        "model.summary()"
      ],
      "metadata": {
        "id": "h9DzsahycPME",
        "colab": {
          "base_uri": "https://localhost:8080/"
        },
        "outputId": "ea27efc5-986d-442f-a125-901d2eda71b0"
      },
      "execution_count": null,
      "outputs": [
        {
          "output_type": "stream",
          "name": "stdout",
          "text": [
            "Model: \"sequential\"\n",
            "_________________________________________________________________\n",
            " Layer (type)                Output Shape              Param #   \n",
            "=================================================================\n",
            " conv2d (Conv2D)             (None, 100, 100, 32)      896       \n",
            "                                                                 \n",
            " leaky_re_lu (LeakyReLU)     (None, 100, 100, 32)      0         \n",
            "                                                                 \n",
            " max_pooling2d (MaxPooling2D  (None, 50, 50, 32)       0         \n",
            " )                                                               \n",
            "                                                                 \n",
            " conv2d_1 (Conv2D)           (None, 50, 50, 64)        18496     \n",
            "                                                                 \n",
            " leaky_re_lu_1 (LeakyReLU)   (None, 50, 50, 64)        0         \n",
            "                                                                 \n",
            " max_pooling2d_1 (MaxPooling  (None, 25, 25, 64)       0         \n",
            " 2D)                                                             \n",
            "                                                                 \n",
            " conv2d_2 (Conv2D)           (None, 25, 25, 128)       73856     \n",
            "                                                                 \n",
            " leaky_re_lu_2 (LeakyReLU)   (None, 25, 25, 128)       0         \n",
            "                                                                 \n",
            " max_pooling2d_2 (MaxPooling  (None, 13, 13, 128)      0         \n",
            " 2D)                                                             \n",
            "                                                                 \n",
            " flatten (Flatten)           (None, 21632)             0         \n",
            "                                                                 \n",
            " dense (Dense)               (None, 700)               15143100  \n",
            "                                                                 \n",
            " dropout (Dropout)           (None, 700)               0         \n",
            "                                                                 \n",
            " dense_1 (Dense)             (None, 6)                 4206      \n",
            "                                                                 \n",
            "=================================================================\n",
            "Total params: 15,240,554\n",
            "Trainable params: 15,240,554\n",
            "Non-trainable params: 0\n",
            "_________________________________________________________________\n"
          ]
        }
      ]
    },
    {
      "cell_type": "code",
      "source": [
        "from keras.backend import categorical_crossentropy\n",
        "model.compile(loss='categorical_crossentropy', optimizer=Adam(),metrics =['accuracy'])"
      ],
      "metadata": {
        "id": "b6_UeC8LcPO2"
      },
      "execution_count": null,
      "outputs": []
    },
    {
      "cell_type": "code",
      "source": [
        "train = model.fit(train_x,y_train,batch_size=64,epochs=15,verbose=1)\n",
        "test_loss, test_acc = model.evaluate(test_x, y_test)\n",
        "print(\"Accuracy:\", test_acc)\n",
        "print('Loss:', test_loss)"
      ],
      "metadata": {
        "id": "EsIAfu59cPRG",
        "colab": {
          "base_uri": "https://localhost:8080/"
        },
        "outputId": "9bfb601a-d20e-4297-d89b-260fc5a01686"
      },
      "execution_count": null,
      "outputs": [
        {
          "output_type": "stream",
          "name": "stdout",
          "text": [
            "Epoch 1/15\n",
            "6/6 [==============================] - 13s 2s/step - loss: 3.9701 - accuracy: 0.2086\n",
            "Epoch 2/15\n",
            "6/6 [==============================] - 11s 2s/step - loss: 2.0900 - accuracy: 0.3371\n",
            "Epoch 3/15\n",
            "6/6 [==============================] - 10s 2s/step - loss: 1.0559 - accuracy: 0.6371\n",
            "Epoch 4/15\n",
            "6/6 [==============================] - 10s 1s/step - loss: 0.8699 - accuracy: 0.6743\n",
            "Epoch 5/15\n",
            "6/6 [==============================] - 11s 2s/step - loss: 0.7415 - accuracy: 0.7400\n",
            "Epoch 6/15\n",
            "6/6 [==============================] - 11s 2s/step - loss: 0.6416 - accuracy: 0.7943\n",
            "Epoch 7/15\n",
            "6/6 [==============================] - 9s 1s/step - loss: 0.5004 - accuracy: 0.8429\n",
            "Epoch 8/15\n",
            "6/6 [==============================] - 11s 2s/step - loss: 0.4088 - accuracy: 0.8571\n",
            "Epoch 9/15\n",
            "6/6 [==============================] - 12s 2s/step - loss: 0.3706 - accuracy: 0.8629\n",
            "Epoch 10/15\n",
            "6/6 [==============================] - 10s 2s/step - loss: 0.3035 - accuracy: 0.9000\n",
            "Epoch 11/15\n",
            "6/6 [==============================] - 10s 1s/step - loss: 0.2526 - accuracy: 0.9057\n",
            "Epoch 12/15\n",
            "6/6 [==============================] - 11s 2s/step - loss: 0.1874 - accuracy: 0.9400\n",
            "Epoch 13/15\n",
            "6/6 [==============================] - 11s 2s/step - loss: 0.1663 - accuracy: 0.9514\n",
            "Epoch 14/15\n",
            "6/6 [==============================] - 9s 1s/step - loss: 0.1847 - accuracy: 0.9371\n",
            "Epoch 15/15\n",
            "6/6 [==============================] - 11s 2s/step - loss: 0.1567 - accuracy: 0.9657\n",
            "5/5 [==============================] - 2s 337ms/step - loss: 0.6827 - accuracy: 0.7733\n",
            "Accuracy: 0.7733333110809326\n",
            "Loss: 0.6827413439750671\n"
          ]
        }
      ]
    },
    {
      "cell_type": "code",
      "source": [
        "model.save('/content/drive/MyDrive/Colab Notebooks/Predict_flower.h5')"
      ],
      "metadata": {
        "id": "p3rHFMxHcUDc"
      },
      "execution_count": null,
      "outputs": []
    },
    {
      "cell_type": "code",
      "source": [
        "#test mo hinh\n",
        "from keras.utils import load_img, img_to_array\n",
        "import matplotlib.pyplot as plt\n",
        "import numpy as np\n",
        "img = load_img('images.png',target_size=(100,100,3))\n",
        "plt.imshow(img)\n",
        "img = img_to_array(img)\n",
        "img = img.reshape(1,100,100,3)\n",
        "img = img.astype('float32')\n",
        "img = img/255\n",
        "a = np.argmax(model.predict(img),axis=-1)\n",
        "print(a)\n",
        "if(a == 1):\n",
        "  print(\"Đây là rose\")\n",
        "if (a == 2):\n",
        "  print(\"Đây là lotus\")\n",
        "if (a == 3):\n",
        "  print(\"Đây là sun flower\")\n",
        "if (a == 4):\n",
        "  print(\"Đây là blossom\")\n",
        "if (a == 5):\n",
        "  print(\"Đây là daisy\")"
      ],
      "metadata": {
        "id": "7UFX2V1gcUF6",
        "colab": {
          "base_uri": "https://localhost:8080/",
          "height": 485
        },
        "outputId": "328d44cf-52bf-4031-f862-5395b5d70577"
      },
      "execution_count": null,
      "outputs": [
        {
          "output_type": "stream",
          "name": "stdout",
          "text": [
            "1/1 [==============================] - 0s 149ms/step\n",
            "[3]\n",
            "Đây là sun flower\n"
          ]
        },
        {
          "output_type": "display_data",
          "data": {
            "text/plain": [
              "<Figure size 640x480 with 1 Axes>"
            ],
            "image/png": "[encoded data removed]"
          },
          "metadata": {}
        }
      ]
    }
  ]
}