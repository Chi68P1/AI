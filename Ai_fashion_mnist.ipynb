{
  "nbformat": 4,
  "nbformat_minor": 0,
  "metadata": {
    "colab": {
      "provenance": [],
      "authorship_tag": "ABX9TyN7D58ilk65FuhLiU/6qcPO",
      "include_colab_link": true
    },
    "kernelspec": {
      "name": "python3",
      "display_name": "Python 3"
    },
    "language_info": {
      "name": "python"
    },
    "gpuClass": "standard"
  },
  "cells": [
    {
      "cell_type": "markdown",
      "metadata": {
        "id": "view-in-github",
        "colab_type": "text"
      },
      "source": [
        "<a href=\"https://colab.research.google.com/github/Chi68P1/AI/blob/main/Ai_fashion_mnist.ipynb\" target=\"_parent\"><img src=\"https://colab.research.google.com/assets/colab-badge.svg\" alt=\"Open In Colab\"/></a>"
      ]
    },
    {
      "cell_type": "code",
      "execution_count": null,
      "metadata": {
        "id": "d7rtav3p3S6p"
      },
      "outputs": [],
      "source": [
        "from keras.datasets.fashion_mnist import load_data #dấu chấm là đường dẫn\n",
        "\n",
        "(train_X, train_Y), (test_X, test_Y) = load_data()"
      ]
    },
    {
      "cell_type": "code",
      "source": [
        "print(train_X.shape)\n",
        "print(test_X.shape)"
      ],
      "metadata": {
        "colab": {
          "base_uri": "https://localhost:8080/"
        },
        "id": "3sz98Yqn4VqR",
        "outputId": "d1993d13-2056-41fd-d9b4-40090f6f8184"
      },
      "execution_count": null,
      "outputs": [
        {
          "output_type": "stream",
          "name": "stdout",
          "text": [
            "(60000, 28, 28)\n",
            "(10000, 28, 28)\n"
          ]
        }
      ]
    },
    {
      "cell_type": "code",
      "source": [
        "from matplotlib import pyplot as plt\n",
        "plt.figure(figsize = [10,10])\n",
        "plt.subplot(121)\n",
        "plt.imshow(train_X[0],cmap ='gray')\n",
        "plt.title('So: {}'.format(train_Y[0]))\n",
        "plt.subplot(122)\n",
        "plt.imshow(train_X[100],cmap ='gray')\n",
        "plt.title('So: {}'.format(train_Y[100]))"
      ],
      "metadata": {
        "colab": {
          "base_uri": "https://localhost:8080/",
          "height": 452
        },
        "id": "VVCFSzFH4VtK",
        "outputId": "80435401-9c91-4b33-b96b-6f3013391ab4"
      },
      "execution_count": null,
      "outputs": [
        {
          "output_type": "execute_result",
          "data": {
            "text/plain": [
              "Text(0.5, 1.0, 'So: 8')"
            ]
          },
          "metadata": {},
          "execution_count": 3
        },
        {
          "output_type": "display_data",
          "data": {
            "text/plain": [
              "<Figure size 1000x1000 with 2 Axes>"
            ],
            "image/png": "[encoded data removed]"
          },
          "metadata": {}
        }
      ]
    },
    {
      "cell_type": "code",
      "source": [
        "train_X = train_X.reshape(60000,28,28,1)\n",
        "test_X = test_X.reshape(10000,28,28,1)\n",
        "print(train_X.shape)\n",
        "print(test_X.shape)\n",
        "\n",
        "train_X = train_X.astype('float32')\n",
        "train_X = train_X/255\n",
        "test_X = test_X.astype('float32')\n",
        "test_X = test_X/255"
      ],
      "metadata": {
        "colab": {
          "base_uri": "https://localhost:8080/"
        },
        "id": "iOZ4LzxE57Ji",
        "outputId": "7701c048-3b47-49f4-efdf-36b61f41f329"
      },
      "execution_count": null,
      "outputs": [
        {
          "output_type": "stream",
          "name": "stdout",
          "text": [
            "(60000, 28, 28, 1)\n",
            "(10000, 28, 28, 1)\n"
          ]
        }
      ]
    },
    {
      "cell_type": "code",
      "source": [
        "from keras.utils import to_categorical\n",
        "train_Y = to_categorical(train_Y)\n",
        "test_Y = to_categorical(test_Y)"
      ],
      "metadata": {
        "id": "QQEzbkmG64yp"
      },
      "execution_count": null,
      "outputs": []
    },
    {
      "cell_type": "code",
      "source": [
        "from keras.models import Sequential,Model\n",
        "from keras.layers import Dense,Flatten,Dropout,Conv2D,MaxPooling2D,Normalization,Input\n",
        "\n",
        "from keras.optimizers import Adam\n",
        "batch_size = 64 \n",
        "epochs = 24 \n",
        "classes = 10"
      ],
      "metadata": {
        "id": "RtAQ7XZA7m0K"
      },
      "execution_count": null,
      "outputs": []
    },
    {
      "cell_type": "code",
      "source": [
        "#CNN\n",
        "from keras.layers import LeakyReLU\n",
        "\n",
        "model = Sequential()\n",
        "\n",
        "model.add(Conv2D(32,kernel_size=(3,3), activation= 'linear',input_shape = (28,28,1),padding = 'same'))\n",
        "model.add(LeakyReLU(alpha =0.1))\n",
        "model.add(MaxPooling2D((2,2),padding = 'same'))\n",
        "\n",
        "model.add(Conv2D(64,(3,3),activation='linear',padding = 'same'))\n",
        "model.add(LeakyReLU(alpha = 0.1))\n",
        "model.add(MaxPooling2D((2,2),padding = 'same'))\n",
        "\n",
        "model.add(Conv2D(128,(3,3),activation='linear',padding = 'same'))\n",
        "model.add(LeakyReLU(alpha = 0.1))\n",
        "model.add(MaxPooling2D((2,2),padding = 'same'))\n",
        "\n",
        "model.summary()"
      ],
      "metadata": {
        "id": "d9QPmzAW7m2y"
      },
      "execution_count": null,
      "outputs": []
    },
    {
      "cell_type": "code",
      "source": [
        "#ANN\n",
        "from keras import losses\n",
        "\n",
        "model.add(Flatten())\n",
        "model.add(Dense(128,activation='linear'))\n",
        "model.add(LeakyReLU(alpha =0.1))\n",
        "model.add(Dense(classes,activation='softmax'))\n",
        "model.compile(loss = losses.categorical_crossentropy,optimizer=Adam(),metrics = ['accuracy'])\n",
        "model.summary()\n",
        "train = model.fit(train_X,train_Y,batch_size=batch_size,epochs=epochs,verbose=1)"
      ],
      "metadata": {
        "id": "8CNEyr4k_9ch"
      },
      "execution_count": null,
      "outputs": []
    },
    {
      "cell_type": "code",
      "source": [
        "test_acc,test_loss = model.evaluate(test_X, test_Y)\n",
        "\n",
        "print(\"test_acc\",test_acc)\n",
        "print(\"test_loss\",test_loss)\n"
      ],
      "metadata": {
        "colab": {
          "base_uri": "https://localhost:8080/"
        },
        "id": "ZfG0iCkoDqao",
        "outputId": "126022fd-95ed-4b91-df90-3c24ea8708f7"
      },
      "execution_count": null,
      "outputs": [
        {
          "output_type": "stream",
          "name": "stdout",
          "text": [
            "313/313 [==============================] - 1s 3ms/step - loss: 0.5073 - accuracy: 0.9170\n",
            "test_acc 0.5073152780532837\n",
            "test_loss 0.9169999957084656\n"
          ]
        }
      ]
    },
    {
      "cell_type": "code",
      "source": [
        "#Lưu model lại\n",
        "model.save('CNN.h5')\n"
      ],
      "metadata": {
        "id": "FhPMWiKaFTyn"
      },
      "execution_count": null,
      "outputs": []
    },
    {
      "cell_type": "code",
      "source": [
        "#Tải model lưu lên drive\n",
        "from google.colab import drive\n",
        "drive.mount('/content/drive')\n",
        "!cp CNN.h5 \"/content/drive/My Drive/Colab Notebooks\"\n"
      ],
      "metadata": {
        "colab": {
          "base_uri": "https://localhost:8080/"
        },
        "id": "niwxemQkFaE3",
        "outputId": "a7290bc6-5403-4c0e-9bdc-a8b1538126f5"
      },
      "execution_count": null,
      "outputs": [
        {
          "output_type": "stream",
          "name": "stdout",
          "text": [
            "Drive already mounted at /content/drive; to attempt to forcibly remount, call drive.mount(\"/content/drive\", force_remount=True).\n"
          ]
        }
      ]
    },
    {
      "cell_type": "code",
      "source": [
        "from os import listdir\n",
        "from numpy import asarray\n",
        "from numpy import save\n",
        "from keras.utils import load_img, img_to_array\n",
        "\n",
        "folder = \"/content/drive/My Drive/NGUYEN_HUU_CHI_20146479\"\n"
      ],
      "metadata": {
        "id": "uj8qKn-7H4v_"
      },
      "execution_count": null,
      "outputs": []
    },
    {
      "cell_type": "markdown",
      "source": [],
      "metadata": {
        "id": "2IzIrTjEQRTK"
      }
    },
    {
      "cell_type": "code",
      "source": [
        "photos,labels = list(), list()\n"
      ],
      "metadata": {
        "id": "T14nPpvHH4yl"
      },
      "execution_count": null,
      "outputs": []
    },
    {
      "cell_type": "code",
      "source": [
        "for file in listdir(folder):\n",
        "  output = 0.0\n",
        "  if file.startswith('chi'):\n",
        "    output = 1.0\n",
        "  if file.startswith('Bản sao của phong'):\n",
        "    output = 2.0\n",
        "photo = load_img(folder +\"/\"+ file, target_size = (40,40))\n",
        "photo = img_to_array(photo)\n",
        "photos.append(photo)\n",
        "labels = asarray(labels)\n",
        "save('chi_phong_photo.jpg',photos)\n",
        "save('chi_phong_label.jpg',labels)\n",
        "\n"
      ],
      "metadata": {
        "id": "xsT9H-ztLLmf"
      },
      "execution_count": null,
      "outputs": []
    },
    {
      "cell_type": "code",
      "source": [
        "eval = model.evaluate(test_X,test_Y,verbose=0)\n",
        "print(\"test losses\",eval[0])\n",
        "print(\"test accuracy\",eval[1])\n",
        "\n",
        "accuracy = train.history['accuracy']\n",
        "url_accuracy = train.history['loss']\n",
        "epochs = range(len(accuracy))\n",
        "plt.plot(epochs,accuracy,'bo',label= 'Training Accuracy')\n",
        "plt.plot(epochs,url_accuracy,'b',label = 'Testing Accuracy')\n",
        "plt.title('Traning and Testing Accuracy')"
      ],
      "metadata": {
        "colab": {
          "base_uri": "https://localhost:8080/",
          "height": 504
        },
        "id": "JXYAziNUQFot",
        "outputId": "833d768b-0f5e-4e41-cf80-69b524c6ab6a"
      },
      "execution_count": null,
      "outputs": [
        {
          "output_type": "stream",
          "name": "stdout",
          "text": [
            "test losses 0.5073152780532837\n",
            "test accuracy 0.9169999957084656\n"
          ]
        },
        {
          "output_type": "execute_result",
          "data": {
            "text/plain": [
              "Text(0.5, 1.0, 'Traning and Testing Accuracy')"
            ]
          },
          "metadata": {},
          "execution_count": 51
        },
        {
          "output_type": "display_data",
          "data": {
            "text/plain": [
              "<Figure size 640x480 with 1 Axes>"
            ],
            "image/png": "[encoded data removed]"
          },
          "metadata": {}
        }
      ]
    }
  ]
}