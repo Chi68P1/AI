{
  "cells": [
    {
      "cell_type": "markdown",
      "metadata": {
        "id": "view-in-github",
        "colab_type": "text"
      },
      "source": [
        "<a href=\"https://colab.research.google.com/github/Chi68P1/AI/blob/main/Predict_faces.ipynb\" target=\"_parent\"><img src=\"https://colab.research.google.com/assets/colab-badge.svg\" alt=\"Open In Colab\"/></a>"
      ]
    },
    {
      "cell_type": "code",
      "execution_count": null,
      "metadata": {
        "id": "ePWU35wbPtMA"
      },
      "outputs": [],
      "source": [
        "from os import listdir\n",
        "from numpy import asarray\n",
        "from numpy import save\n",
        "from keras.utils.image_utils import img_to_array\n",
        "from keras.utils import load_img"
      ]
    },
    {
      "cell_type": "code",
      "execution_count": null,
      "metadata": {
        "colab": {
          "base_uri": "https://localhost:8080/"
        },
        "id": "qJvJlGVdg2dA",
        "outputId": "7717c671-581f-4309-af86-96c8c29089df"
      },
      "outputs": [
        {
          "output_type": "stream",
          "name": "stdout",
          "text": [
            "Mounted at /content/drive\n"
          ]
        }
      ],
      "source": [
        "from google.colab import drive\n",
        "drive.mount('/content/drive')"
      ]
    },
    {
      "cell_type": "code",
      "execution_count": null,
      "metadata": {
        "id": "7gdnF779P5gy"
      },
      "outputs": [],
      "source": [
        "\n",
        "folder='/content/drive/MyDrive/Colab Notebooks/Faces/'"
      ]
    },
    {
      "cell_type": "code",
      "execution_count": null,
      "metadata": {
        "id": "4dqlmUxEfuhN"
      },
      "outputs": [],
      "source": [
        "photos,labels = list(),list()"
      ]
    },
    {
      "cell_type": "code",
      "execution_count": null,
      "metadata": {
        "id": "sTr0hEADP5jK"
      },
      "outputs": [],
      "source": [
        "for file in listdir(folder):\n",
        "  output=0.0\n",
        "  if file.startswith('phi'):\n",
        "    output=1.0\n",
        "  if file.startswith('hung'):\n",
        "    output=2.0\n",
        "  if file.startswith('nam'):\n",
        "    output=3.0\n",
        "  if file.startswith('hieu'):\n",
        "    output=4.0\n",
        "  if file.startswith('chuong'):\n",
        "    output=5.0\n",
        "  if file.startswith('chi'):\n",
        "    output=6.0\n",
        "  if file.startswith('truong'):\n",
        "    output=7.0\n",
        "  if file.startswith('phong'):\n",
        "    output=8.0\n",
        "  if file.startswith('tri'):\n",
        "    output=9.0\n",
        "  if file.startswith('thang'):\n",
        "    output=10.0\n",
        "  if file.startswith('dong'):\n",
        "    output=11.0\n",
        "  if file.startswith('thanh'):\n",
        "    output=12.0\n",
        "  if file.startswith('binh'):\n",
        "    output=13.0\n",
        "  photo = load_img(folder+file,target_size=(100,100))\n",
        "  photo = img_to_array(photo)\n",
        "  photos.append(photo)\n",
        "  labels.append(output)"
      ]
    },
    {
      "cell_type": "code",
      "execution_count": null,
      "metadata": {
        "id": "mfavJFtHP5lX"
      },
      "outputs": [],
      "source": [
        "photos = asarray(photos)\n",
        "labels = asarray(labels)\n",
        "save('/content/drive/MyDrive/Colab Notebooks/photo_faces.npy',photos)\n",
        "save('/content/drive/MyDrive/Colab Notebooks/label_faces.npy',labels)"
      ]
    },
    {
      "cell_type": "code",
      "execution_count": null,
      "metadata": {
        "colab": {
          "base_uri": "https://localhost:8080/"
        },
        "id": "gdbklyJqP56z",
        "outputId": "32822b2a-4ea0-4046-d93d-21a658ff5745"
      },
      "outputs": [
        {
          "output_type": "execute_result",
          "data": {
            "text/plain": [
              "(690, 100, 100, 3)"
            ]
          },
          "metadata": {},
          "execution_count": 7
        }
      ],
      "source": [
        "photos.shape"
      ]
    },
    {
      "cell_type": "code",
      "execution_count": null,
      "metadata": {
        "colab": {
          "base_uri": "https://localhost:8080/"
        },
        "id": "SYY3eXetP59B",
        "outputId": "5ad65017-e2d1-4c19-89a6-aa6b412a19c3"
      },
      "outputs": [
        {
          "output_type": "execute_result",
          "data": {
            "text/plain": [
              "(690,)"
            ]
          },
          "metadata": {},
          "execution_count": 8
        }
      ],
      "source": [
        "labels.shape"
      ]
    },
    {
      "cell_type": "code",
      "execution_count": null,
      "metadata": {
        "id": "ciuXocTjb3Ln"
      },
      "outputs": [],
      "source": [
        "from sklearn.model_selection import train_test_split"
      ]
    },
    {
      "cell_type": "code",
      "execution_count": null,
      "metadata": {
        "id": "mps96G9Xb3N-"
      },
      "outputs": [],
      "source": [
        "train_x, test_x, train_y,  test_y = train_test_split(photos,labels, test_size=0.3, train_size=0.7)\n",
        "     "
      ]
    },
    {
      "cell_type": "code",
      "execution_count": null,
      "metadata": {
        "colab": {
          "base_uri": "https://localhost:8080/"
        },
        "id": "-wD-0gZ5b3P8",
        "outputId": "1492cd54-a874-4d83-930d-2bec3700edaa"
      },
      "outputs": [
        {
          "output_type": "execute_result",
          "data": {
            "text/plain": [
              "(482, 100, 100, 3)"
            ]
          },
          "metadata": {},
          "execution_count": 11
        }
      ],
      "source": [
        "train_x.shape"
      ]
    },
    {
      "cell_type": "code",
      "execution_count": null,
      "metadata": {
        "colab": {
          "base_uri": "https://localhost:8080/"
        },
        "id": "h5c9YnYhb3Sb",
        "outputId": "598e5057-8b9d-4a00-9bfb-e8b8cc5202ac"
      },
      "outputs": [
        {
          "output_type": "execute_result",
          "data": {
            "text/plain": [
              "(207, 100, 100, 3)"
            ]
          },
          "metadata": {},
          "execution_count": 12
        }
      ],
      "source": [
        "test_x.shape"
      ]
    },
    {
      "cell_type": "code",
      "execution_count": null,
      "metadata": {
        "id": "LfJpC5ptb9gl"
      },
      "outputs": [],
      "source": [
        "train_x = train_x.astype('float32')\n",
        "train_x = train_x/255"
      ]
    },
    {
      "cell_type": "code",
      "execution_count": null,
      "metadata": {
        "id": "h0oJ_tYhb9i0"
      },
      "outputs": [],
      "source": [
        "test_x = test_x.astype('float32')\n",
        "test_x = test_x/255"
      ]
    },
    {
      "cell_type": "code",
      "execution_count": null,
      "metadata": {
        "id": "Rs6wAKhnb9k9"
      },
      "outputs": [],
      "source": [
        "from keras.utils import to_categorical\n",
        "y_train = to_categorical(train_y)\n",
        "y_test = to_categorical(test_y)"
      ]
    },
    {
      "cell_type": "code",
      "execution_count": null,
      "metadata": {
        "colab": {
          "base_uri": "https://localhost:8080/"
        },
        "id": "284bm1bKb9nY",
        "outputId": "22da7dae-a92e-481f-a501-01257540fa83"
      },
      "outputs": [
        {
          "output_type": "execute_result",
          "data": {
            "text/plain": [
              "(482, 100, 100, 3)"
            ]
          },
          "metadata": {},
          "execution_count": 16
        }
      ],
      "source": [
        "train_x.shape"
      ]
    },
    {
      "cell_type": "code",
      "execution_count": null,
      "metadata": {
        "colab": {
          "base_uri": "https://localhost:8080/"
        },
        "id": "bEfA1NF6cCZQ",
        "outputId": "8f6a2280-a6da-404c-9403-1937bf7dd00d"
      },
      "outputs": [
        {
          "output_type": "execute_result",
          "data": {
            "text/plain": [
              "(482, 14)"
            ]
          },
          "metadata": {},
          "execution_count": 17
        }
      ],
      "source": [
        "y_train.shape"
      ]
    },
    {
      "cell_type": "code",
      "execution_count": null,
      "metadata": {
        "id": "9qu5uCtZcCbi"
      },
      "outputs": [],
      "source": [
        "from keras import Sequential,Model,Input\n",
        "from keras.layers import Dense,Flatten,Dropout, Conv2D, MaxPooling2D,Normalization\n",
        "from keras.optimizers import Adam"
      ]
    },
    {
      "cell_type": "code",
      "execution_count": null,
      "metadata": {
        "id": "y3zQ5OuScCdc"
      },
      "outputs": [],
      "source": [
        "batch_size = 100\n",
        "epochs = 10\n",
        "classes = 14"
      ]
    },
    {
      "cell_type": "code",
      "execution_count": null,
      "metadata": {
        "id": "EesxA09qcIhM"
      },
      "outputs": [],
      "source": [
        "model = Sequential()\n",
        "model.add(Conv2D(32,kernel_size=(3,3),activation='linear',input_shape=(100,100,3),padding='same'))"
      ]
    },
    {
      "cell_type": "code",
      "execution_count": null,
      "metadata": {
        "id": "_OWbyD_3cIjf"
      },
      "outputs": [],
      "source": [
        "from keras.layers import LeakyReLU\n",
        "model.add(LeakyReLU(alpha=0.1))\n",
        "model.add(MaxPooling2D((2,2),padding='same'))\n",
        "\n",
        "model.add(Conv2D(64,(3,3),activation='linear',padding='same'))\n",
        "model.add(LeakyReLU(alpha=0.1))\n",
        "model.add(MaxPooling2D((2,2),padding='same'))\n",
        "\n",
        "model.add(Conv2D(128,(3,3),activation='linear',padding='same'))\n",
        "model.add(LeakyReLU(alpha=0.1))\n",
        "model.add(MaxPooling2D((2,2),padding='same'))"
      ]
    },
    {
      "cell_type": "code",
      "execution_count": null,
      "metadata": {
        "id": "d7yjuUPkcImG"
      },
      "outputs": [],
      "source": [
        "model.add(Flatten())"
      ]
    },
    {
      "cell_type": "code",
      "execution_count": null,
      "metadata": {
        "id": "vQUrerjYcIoY"
      },
      "outputs": [],
      "source": [
        "model.add(Dense(700,activation='linear'))\n",
        "model.add(Dropout(0.5))\n",
        "model.add(Dense(classes,activation='softmax'))"
      ]
    },
    {
      "cell_type": "code",
      "execution_count": null,
      "metadata": {
        "colab": {
          "base_uri": "https://localhost:8080/"
        },
        "id": "h9DzsahycPME",
        "outputId": "febed79c-f128-49d2-b064-36fd7f51a692"
      },
      "outputs": [
        {
          "output_type": "stream",
          "name": "stdout",
          "text": [
            "Model: \"sequential\"\n",
            "_________________________________________________________________\n",
            " Layer (type)                Output Shape              Param #   \n",
            "=================================================================\n",
            " conv2d (Conv2D)             (None, 100, 100, 32)      896       \n",
            "                                                                 \n",
            " leaky_re_lu (LeakyReLU)     (None, 100, 100, 32)      0         \n",
            "                                                                 \n",
            " max_pooling2d (MaxPooling2D  (None, 50, 50, 32)       0         \n",
            " )                                                               \n",
            "                                                                 \n",
            " conv2d_1 (Conv2D)           (None, 50, 50, 64)        18496     \n",
            "                                                                 \n",
            " leaky_re_lu_1 (LeakyReLU)   (None, 50, 50, 64)        0         \n",
            "                                                                 \n",
            " max_pooling2d_1 (MaxPooling  (None, 25, 25, 64)       0         \n",
            " 2D)                                                             \n",
            "                                                                 \n",
            " conv2d_2 (Conv2D)           (None, 25, 25, 128)       73856     \n",
            "                                                                 \n",
            " leaky_re_lu_2 (LeakyReLU)   (None, 25, 25, 128)       0         \n",
            "                                                                 \n",
            " max_pooling2d_2 (MaxPooling  (None, 13, 13, 128)      0         \n",
            " 2D)                                                             \n",
            "                                                                 \n",
            " flatten (Flatten)           (None, 21632)             0         \n",
            "                                                                 \n",
            " dense (Dense)               (None, 700)               15143100  \n",
            "                                                                 \n",
            " dropout (Dropout)           (None, 700)               0         \n",
            "                                                                 \n",
            " dense_1 (Dense)             (None, 14)                9814      \n",
            "                                                                 \n",
            "=================================================================\n",
            "Total params: 15,246,162\n",
            "Trainable params: 15,246,162\n",
            "Non-trainable params: 0\n",
            "_________________________________________________________________\n"
          ]
        }
      ],
      "source": [
        "model.summary()"
      ]
    },
    {
      "cell_type": "code",
      "execution_count": null,
      "metadata": {
        "id": "b6_UeC8LcPO2"
      },
      "outputs": [],
      "source": [
        "from keras.backend import categorical_crossentropy\n",
        "model.compile(loss='categorical_crossentropy', optimizer=Adam(),metrics =['accuracy'])"
      ]
    },
    {
      "cell_type": "code",
      "execution_count": null,
      "metadata": {
        "colab": {
          "base_uri": "https://localhost:8080/"
        },
        "id": "EsIAfu59cPRG",
        "outputId": "f9f62035-7b95-4532-e77e-5ada8806f846"
      },
      "outputs": [
        {
          "output_type": "stream",
          "name": "stdout",
          "text": [
            "Epoch 1/15\n",
            "8/8 [==============================] - 11s 72ms/step - loss: 4.0883 - accuracy: 0.1701\n",
            "Epoch 2/15\n",
            "8/8 [==============================] - 0s 28ms/step - loss: 1.5534 - accuracy: 0.6722\n",
            "Epoch 3/15\n",
            "8/8 [==============================] - 0s 31ms/step - loss: 0.3181 - accuracy: 0.9398\n",
            "Epoch 4/15\n",
            "8/8 [==============================] - 0s 28ms/step - loss: 0.1002 - accuracy: 0.9710\n",
            "Epoch 5/15\n",
            "8/8 [==============================] - 0s 31ms/step - loss: 0.0458 - accuracy: 0.9855\n",
            "Epoch 6/15\n",
            "8/8 [==============================] - 0s 29ms/step - loss: 0.0260 - accuracy: 0.9938\n",
            "Epoch 7/15\n",
            "8/8 [==============================] - 0s 30ms/step - loss: 0.0146 - accuracy: 0.9979\n",
            "Epoch 8/15\n",
            "8/8 [==============================] - 0s 29ms/step - loss: 0.0051 - accuracy: 1.0000\n",
            "Epoch 9/15\n",
            "8/8 [==============================] - 0s 30ms/step - loss: 0.0055 - accuracy: 1.0000\n",
            "Epoch 10/15\n",
            "8/8 [==============================] - 0s 32ms/step - loss: 0.0028 - accuracy: 1.0000\n",
            "Epoch 11/15\n",
            "8/8 [==============================] - 0s 30ms/step - loss: 0.0042 - accuracy: 0.9979\n",
            "Epoch 12/15\n",
            "8/8 [==============================] - 0s 31ms/step - loss: 0.0012 - accuracy: 1.0000\n",
            "Epoch 13/15\n",
            "8/8 [==============================] - 0s 31ms/step - loss: 0.0020 - accuracy: 1.0000\n",
            "Epoch 14/15\n",
            "8/8 [==============================] - 0s 29ms/step - loss: 7.7930e-04 - accuracy: 1.0000\n",
            "Epoch 15/15\n",
            "8/8 [==============================] - 0s 29ms/step - loss: 3.6826e-04 - accuracy: 1.0000\n",
            "7/7 [==============================] - 1s 26ms/step - loss: 0.0069 - accuracy: 0.9952\n",
            "Accuracy: 0.9951691031455994\n",
            "Loss: 0.006921996362507343\n"
          ]
        }
      ],
      "source": [
        "train = model.fit(train_x,y_train,batch_size=64,epochs=15,verbose=1)\n",
        "test_loss, test_acc = model.evaluate(test_x, y_test)\n",
        "print(\"Accuracy:\", test_acc)\n",
        "print('Loss:', test_loss)"
      ]
    },
    {
      "cell_type": "code",
      "execution_count": null,
      "metadata": {
        "id": "p3rHFMxHcUDc"
      },
      "outputs": [],
      "source": [
        "model.save('/content/drive/MyDrive/Colab Notebooks/Predict_faces.h5')"
      ]
    },
    {
      "cell_type": "code",
      "execution_count": null,
      "metadata": {
        "colab": {
          "base_uri": "https://localhost:8080/",
          "height": 485
        },
        "id": "7UFX2V1gcUF6",
        "outputId": "545f7d3e-fd16-47e1-d569-75676cd5bc59"
      },
      "outputs": [
        {
          "output_type": "stream",
          "name": "stdout",
          "text": [
            "1/1 [==============================] - 0s 204ms/step\n",
            "[13]\n",
            "Đây là bình\n"
          ]
        },
        {
          "output_type": "display_data",
          "data": {
            "text/plain": [
              "<Figure size 640x480 with 1 Axes>"
            ],
            "image/png": "[encoded data removed]"
          },
          "metadata": {}
        }
      ],
      "source": [
        "#test mo hinh\n",
        "from keras.utils import load_img, img_to_array\n",
        "import matplotlib.pyplot as plt\n",
        "import numpy as np\n",
        "img = load_img('test.jpg',target_size=(100,100,3))\n",
        "plt.imshow(img)\n",
        "img = img_to_array(img)\n",
        "img = img.reshape(1,100,100,3)\n",
        "img = img.astype('float32')\n",
        "img = img/255\n",
        "a = np.argmax(model.predict(img),axis=-1)\n",
        "print(a)\n",
        "if(a == 1):\n",
        "  print(\"Đây là phi\")\n",
        "if (a == 2):\n",
        "  print(\"Đây là hùng\")\n",
        "if (a == 3):\n",
        "  print(\"Đây là nam\")\n",
        "if (a == 4):\n",
        "  print(\"Đây là hiếu\")\n",
        "if (a == 5):\n",
        "  print(\"Đây là chương\")\n",
        "if (a == 6):\n",
        "  print(\"Đây là chí\")\n",
        "if (a == 7):\n",
        "  print(\"Đây là trường\")\n",
        "if (a == 8):\n",
        "  print(\"Đây là phong\")\n",
        "if (a == 9):\n",
        "  print(\"Đây là trí\")\n",
        "if (a == 10):\n",
        "  print(\"Đây là thắng\")\n",
        "if (a == 11):\n",
        "  print(\"Đây là đông\")\n",
        "if (a == 12):\n",
        "  print(\"Đây là thanh\")\n",
        "if (a == 13):\n",
        "  print(\"Đây là bình\")"
      ]
    }
  ],
  "metadata": {
    "colab": {
      "provenance": [],
      "authorship_tag": "ABX9TyOdv4YBwQrsiuymzQ3JjnIS",
      "include_colab_link": true
    },
    "gpuClass": "standard",
    "kernelspec": {
      "display_name": "Python 3",
      "name": "python3"
    },
    "language_info": {
      "name": "python"
    }
  },
  "nbformat": 4,
  "nbformat_minor": 0
}