{
  "cells": [
    {
      "cell_type": "markdown",
      "metadata": {
        "id": "view-in-github",
        "colab_type": "text"
      },
      "source": [
        "<a href=\"https://colab.research.google.com/github/Chi68P1/AI/blob/main/Predict_dishes.ipynb\" target=\"_parent\"><img src=\"https://colab.research.google.com/assets/colab-badge.svg\" alt=\"Open In Colab\"/></a>"
      ]
    },
    {
      "cell_type": "code",
      "execution_count": null,
      "metadata": {
        "id": "ePWU35wbPtMA"
      },
      "outputs": [],
      "source": [
        "from os import listdir\n",
        "from numpy import asarray\n",
        "from numpy import save\n",
        "from keras.utils.image_utils import img_to_array\n",
        "from keras.utils import load_img"
      ]
    },
    {
      "cell_type": "code",
      "execution_count": null,
      "metadata": {
        "colab": {
          "base_uri": "https://localhost:8080/"
        },
        "id": "qJvJlGVdg2dA",
        "outputId": "24a29142-accf-40e1-8154-d63b386680c0"
      },
      "outputs": [
        {
          "output_type": "stream",
          "name": "stdout",
          "text": [
            "Mounted at /content/drive\n"
          ]
        }
      ],
      "source": [
        "from google.colab import drive\n",
        "drive.mount('/content/drive')"
      ]
    },
    {
      "cell_type": "code",
      "execution_count": null,
      "metadata": {
        "id": "7gdnF779P5gy"
      },
      "outputs": [],
      "source": [
        "\n",
        "folder='/content/drive/MyDrive/Colab Notebooks/Dishes/'"
      ]
    },
    {
      "cell_type": "code",
      "execution_count": null,
      "metadata": {
        "id": "4dqlmUxEfuhN"
      },
      "outputs": [],
      "source": [
        "photos,labels = list(),list()"
      ]
    },
    {
      "cell_type": "code",
      "execution_count": null,
      "metadata": {
        "id": "sTr0hEADP5jK"
      },
      "outputs": [],
      "source": [
        "for file in listdir(folder):\n",
        "  output=0.0\n",
        "  if file.startswith('bunbo'):\n",
        "    output=1.0\n",
        "  if file.startswith('che'):\n",
        "    output=2.0\n",
        "  if file.startswith('banhxeo'):\n",
        "    output=3.0\n",
        "  if file.startswith('banhbo'):\n",
        "    output=4.0\n",
        "  if file.startswith('comtam'):\n",
        "    output=5.0\n",
        "  if file.startswith('buncha'):\n",
        "    output=6.0\n",
        "  if file.startswith('banhtet'):\n",
        "    output=7.0\n",
        "  if file.startswith('banhbeo'):\n",
        "    output=8.0\n",
        "  if file.startswith('banhmi'):\n",
        "    output=9.0\n",
        "  if file.startswith('goicuon'):\n",
        "    output=10.0\n",
        "  photo = load_img(folder+file,target_size=(100,100))\n",
        "  photo = img_to_array(photo)\n",
        "  photos.append(photo)\n",
        "  labels.append(output)"
      ]
    },
    {
      "cell_type": "code",
      "execution_count": null,
      "metadata": {
        "id": "mfavJFtHP5lX"
      },
      "outputs": [],
      "source": [
        "photos = asarray(photos)\n",
        "labels = asarray(labels)\n",
        "save('/content/drive/MyDrive/Colab Notebooks/photo_dishes.npy',photos)\n",
        "save('/content/drive/MyDrive/Colab Notebooks/label_dishes.npy',labels)"
      ]
    },
    {
      "cell_type": "code",
      "execution_count": null,
      "metadata": {
        "colab": {
          "base_uri": "https://localhost:8080/"
        },
        "id": "gdbklyJqP56z",
        "outputId": "8e00f5d7-d709-45df-d14a-a92d07141816"
      },
      "outputs": [
        {
          "output_type": "execute_result",
          "data": {
            "text/plain": [
              "(1000, 100, 100, 3)"
            ]
          },
          "metadata": {},
          "execution_count": 7
        }
      ],
      "source": [
        "photos.shape"
      ]
    },
    {
      "cell_type": "code",
      "execution_count": null,
      "metadata": {
        "colab": {
          "base_uri": "https://localhost:8080/"
        },
        "id": "SYY3eXetP59B",
        "outputId": "3cdedd22-4be7-4b24-b8e3-698ad1e33742"
      },
      "outputs": [
        {
          "output_type": "execute_result",
          "data": {
            "text/plain": [
              "(1000,)"
            ]
          },
          "metadata": {},
          "execution_count": 8
        }
      ],
      "source": [
        "labels.shape"
      ]
    },
    {
      "cell_type": "code",
      "execution_count": null,
      "metadata": {
        "id": "ciuXocTjb3Ln"
      },
      "outputs": [],
      "source": [
        "from sklearn.model_selection import train_test_split"
      ]
    },
    {
      "cell_type": "code",
      "execution_count": null,
      "metadata": {
        "id": "mps96G9Xb3N-"
      },
      "outputs": [],
      "source": [
        "train_x, test_x, train_y,  test_y = train_test_split(photos,labels, test_size=0.3, train_size=0.7)\n",
        "     "
      ]
    },
    {
      "cell_type": "code",
      "execution_count": null,
      "metadata": {
        "colab": {
          "base_uri": "https://localhost:8080/"
        },
        "id": "-wD-0gZ5b3P8",
        "outputId": "084709e3-4708-4fec-8dbc-1ae6dd1508c2"
      },
      "outputs": [
        {
          "output_type": "execute_result",
          "data": {
            "text/plain": [
              "(700, 100, 100, 3)"
            ]
          },
          "metadata": {},
          "execution_count": 11
        }
      ],
      "source": [
        "train_x.shape"
      ]
    },
    {
      "cell_type": "code",
      "execution_count": null,
      "metadata": {
        "colab": {
          "base_uri": "https://localhost:8080/"
        },
        "id": "h5c9YnYhb3Sb",
        "outputId": "4f8a4ae4-a968-4d8d-fc0f-f23daeb85456"
      },
      "outputs": [
        {
          "output_type": "execute_result",
          "data": {
            "text/plain": [
              "(300, 100, 100, 3)"
            ]
          },
          "metadata": {},
          "execution_count": 12
        }
      ],
      "source": [
        "test_x.shape"
      ]
    },
    {
      "cell_type": "code",
      "execution_count": null,
      "metadata": {
        "id": "LfJpC5ptb9gl"
      },
      "outputs": [],
      "source": [
        "train_x = train_x.astype('float32')\n",
        "train_x = train_x/255"
      ]
    },
    {
      "cell_type": "code",
      "execution_count": null,
      "metadata": {
        "id": "h0oJ_tYhb9i0"
      },
      "outputs": [],
      "source": [
        "test_x = test_x.astype('float32')\n",
        "test_x = test_x/255"
      ]
    },
    {
      "cell_type": "code",
      "execution_count": null,
      "metadata": {
        "id": "Rs6wAKhnb9k9"
      },
      "outputs": [],
      "source": [
        "from keras.utils import to_categorical\n",
        "y_train = to_categorical(train_y)\n",
        "y_test = to_categorical(test_y)"
      ]
    },
    {
      "cell_type": "code",
      "execution_count": null,
      "metadata": {
        "colab": {
          "base_uri": "https://localhost:8080/"
        },
        "id": "284bm1bKb9nY",
        "outputId": "8ee9e1e4-f008-48a8-96d4-3c41dffd3e27"
      },
      "outputs": [
        {
          "output_type": "execute_result",
          "data": {
            "text/plain": [
              "(700, 100, 100, 3)"
            ]
          },
          "metadata": {},
          "execution_count": 16
        }
      ],
      "source": [
        "train_x.shape"
      ]
    },
    {
      "cell_type": "code",
      "execution_count": null,
      "metadata": {
        "colab": {
          "base_uri": "https://localhost:8080/"
        },
        "id": "bEfA1NF6cCZQ",
        "outputId": "7d724772-1c8f-4c98-a7d2-d5e2301c406f"
      },
      "outputs": [
        {
          "output_type": "execute_result",
          "data": {
            "text/plain": [
              "(700, 11)"
            ]
          },
          "metadata": {},
          "execution_count": 17
        }
      ],
      "source": [
        "y_train.shape"
      ]
    },
    {
      "cell_type": "code",
      "execution_count": null,
      "metadata": {
        "id": "9qu5uCtZcCbi"
      },
      "outputs": [],
      "source": [
        "from keras import Sequential,Model,Input\n",
        "from keras.layers import Dense,Flatten,Dropout, Conv2D, MaxPooling2D,Normalization\n",
        "from keras.optimizers import Adam"
      ]
    },
    {
      "cell_type": "code",
      "execution_count": null,
      "metadata": {
        "id": "y3zQ5OuScCdc"
      },
      "outputs": [],
      "source": [
        "batch_size = 100\n",
        "epochs = 10\n",
        "classes = 11"
      ]
    },
    {
      "cell_type": "code",
      "execution_count": null,
      "metadata": {
        "id": "EesxA09qcIhM"
      },
      "outputs": [],
      "source": [
        "model = Sequential()\n",
        "model.add(Conv2D(32,kernel_size=(3,3),activation='linear',input_shape=(100,100,3),padding='same'))"
      ]
    },
    {
      "cell_type": "code",
      "execution_count": null,
      "metadata": {
        "id": "_OWbyD_3cIjf"
      },
      "outputs": [],
      "source": [
        "A"
      ]
    },
    {
      "cell_type": "code",
      "execution_count": null,
      "metadata": {
        "id": "d7yjuUPkcImG"
      },
      "outputs": [],
      "source": [
        "model.add(Flatten())"
      ]
    },
    {
      "cell_type": "code",
      "execution_count": null,
      "metadata": {
        "id": "vQUrerjYcIoY"
      },
      "outputs": [],
      "source": [
        "model.add(Dense(700,activation='linear'))\n",
        "model.add(Dropout(0.5))\n",
        "model.add(Dense(classes,activation='softmax'))"
      ]
    },
    {
      "cell_type": "code",
      "execution_count": null,
      "metadata": {
        "colab": {
          "base_uri": "https://localhost:8080/"
        },
        "id": "h9DzsahycPME",
        "outputId": "3717d093-8c8d-45f8-dfde-26bc380cb9cc"
      },
      "outputs": [
        {
          "output_type": "stream",
          "name": "stdout",
          "text": [
            "Model: \"sequential\"\n",
            "_________________________________________________________________\n",
            " Layer (type)                Output Shape              Param #   \n",
            "=================================================================\n",
            " conv2d (Conv2D)             (None, 100, 100, 32)      896       \n",
            "                                                                 \n",
            " leaky_re_lu (LeakyReLU)     (None, 100, 100, 32)      0         \n",
            "                                                                 \n",
            " max_pooling2d (MaxPooling2D  (None, 50, 50, 32)       0         \n",
            " )                                                               \n",
            "                                                                 \n",
            " conv2d_1 (Conv2D)           (None, 50, 50, 64)        18496     \n",
            "                                                                 \n",
            " leaky_re_lu_1 (LeakyReLU)   (None, 50, 50, 64)        0         \n",
            "                                                                 \n",
            " max_pooling2d_1 (MaxPooling  (None, 25, 25, 64)       0         \n",
            " 2D)                                                             \n",
            "                                                                 \n",
            " conv2d_2 (Conv2D)           (None, 25, 25, 128)       73856     \n",
            "                                                                 \n",
            " leaky_re_lu_2 (LeakyReLU)   (None, 25, 25, 128)       0         \n",
            "                                                                 \n",
            " max_pooling2d_2 (MaxPooling  (None, 13, 13, 128)      0         \n",
            " 2D)                                                             \n",
            "                                                                 \n",
            " flatten (Flatten)           (None, 21632)             0         \n",
            "                                                                 \n",
            " dense (Dense)               (None, 700)               15143100  \n",
            "                                                                 \n",
            " dropout (Dropout)           (None, 700)               0         \n",
            "                                                                 \n",
            " dense_1 (Dense)             (None, 11)                7711      \n",
            "                                                                 \n",
            "=================================================================\n",
            "Total params: 15,244,059\n",
            "Trainable params: 15,244,059\n",
            "Non-trainable params: 0\n",
            "_________________________________________________________________\n"
          ]
        }
      ],
      "source": [
        "model.summary()"
      ]
    },
    {
      "cell_type": "code",
      "execution_count": null,
      "metadata": {
        "id": "b6_UeC8LcPO2"
      },
      "outputs": [],
      "source": [
        "from keras.backend import categorical_crossentropy\n",
        "model.compile(loss='categorical_crossentropy', optimizer=Adam(),metrics =['accuracy'])"
      ]
    },
    {
      "cell_type": "code",
      "execution_count": null,
      "metadata": {
        "colab": {
          "base_uri": "https://localhost:8080/"
        },
        "id": "EsIAfu59cPRG",
        "outputId": "31b232ed-1530-4e49-a64f-ead5c806a64f"
      },
      "outputs": [
        {
          "output_type": "stream",
          "name": "stdout",
          "text": [
            "Epoch 1/15\n",
            "11/11 [==============================] - 10s 70ms/step - loss: 3.8259 - accuracy: 0.1300\n",
            "Epoch 2/15\n",
            "11/11 [==============================] - 0s 29ms/step - loss: 2.1913 - accuracy: 0.2071\n",
            "Epoch 3/15\n",
            "11/11 [==============================] - 0s 29ms/step - loss: 1.9187 - accuracy: 0.3514\n",
            "Epoch 4/15\n",
            "11/11 [==============================] - 0s 29ms/step - loss: 1.6864 - accuracy: 0.4057\n",
            "Epoch 5/15\n",
            "11/11 [==============================] - 0s 29ms/step - loss: 1.3887 - accuracy: 0.5686\n",
            "Epoch 6/15\n",
            "11/11 [==============================] - 0s 29ms/step - loss: 1.0407 - accuracy: 0.6557\n",
            "Epoch 7/15\n",
            "11/11 [==============================] - 0s 30ms/step - loss: 0.8818 - accuracy: 0.7314\n",
            "Epoch 8/15\n",
            "11/11 [==============================] - 0s 29ms/step - loss: 0.7041 - accuracy: 0.7829\n",
            "Epoch 9/15\n",
            "11/11 [==============================] - 0s 28ms/step - loss: 0.4666 - accuracy: 0.8614\n",
            "Epoch 10/15\n",
            "11/11 [==============================] - 0s 29ms/step - loss: 0.3381 - accuracy: 0.9043\n",
            "Epoch 11/15\n",
            "11/11 [==============================] - 0s 29ms/step - loss: 0.1884 - accuracy: 0.9500\n",
            "Epoch 12/15\n",
            "11/11 [==============================] - 0s 29ms/step - loss: 0.1673 - accuracy: 0.9614\n",
            "Epoch 13/15\n",
            "11/11 [==============================] - 0s 29ms/step - loss: 0.1108 - accuracy: 0.9771\n",
            "Epoch 14/15\n",
            "11/11 [==============================] - 0s 29ms/step - loss: 0.0685 - accuracy: 0.9800\n",
            "Epoch 15/15\n",
            "11/11 [==============================] - 0s 28ms/step - loss: 0.0524 - accuracy: 0.9914\n",
            "10/10 [==============================] - 1s 18ms/step - loss: 3.2081 - accuracy: 0.4333\n",
            "Accuracy: 0.4333333373069763\n",
            "Loss: 3.2080891132354736\n"
          ]
        }
      ],
      "source": [
        "train = model.fit(train_x,y_train,batch_size=64,epochs=15,verbose=1)\n",
        "test_loss, test_acc = model.evaluate(test_x, y_test)\n",
        "print(\"Accuracy:\", test_acc)\n",
        "print('Loss:', test_loss)"
      ]
    },
    {
      "cell_type": "code",
      "execution_count": null,
      "metadata": {
        "id": "p3rHFMxHcUDc"
      },
      "outputs": [],
      "source": [
        "model.save('/content/drive/MyDrive/Colab Notebooks/Predict_dishes.h5')"
      ]
    },
    {
      "cell_type": "code",
      "execution_count": null,
      "metadata": {
        "colab": {
          "base_uri": "https://localhost:8080/",
          "height": 485
        },
        "id": "7UFX2V1gcUF6",
        "outputId": "610c3900-07a6-427e-a8c2-cd9aaf4b24a9"
      },
      "outputs": [
        {
          "output_type": "stream",
          "name": "stdout",
          "text": [
            "1/1 [==============================] - 0s 229ms/step\n",
            "[1]\n",
            "Đây là bún bò\n"
          ]
        },
        {
          "output_type": "display_data",
          "data": {
            "text/plain": [
              "<Figure size 640x480 with 1 Axes>"
            ],
            "image/png": "[encoded data removed]"
          },
          "metadata": {}
        }
      ],
      "source": [
        "#test mo hinh\n",
        "from keras.utils import load_img, img_to_array\n",
        "import matplotlib.pyplot as plt\n",
        "import numpy as np\n",
        "img = load_img('test.jpg',target_size=(100,100,3))\n",
        "plt.imshow(img)\n",
        "img = img_to_array(img)\n",
        "img = img.reshape(1,100,100,3)\n",
        "img = img.astype('float32')\n",
        "img = img/255\n",
        "a = np.argmax(model.predict(img),axis=-1)\n",
        "print(a)\n",
        "if(a == 1):\n",
        "  print(\"Đây là bún bò\")\n",
        "if (a == 2):\n",
        "  print(\"Đây là chè\")\n",
        "if (a == 3):\n",
        "  print(\"Đây là bánh xèo\")\n",
        "if (a == 4):\n",
        "  print(\"Đây là bánh bò\")\n",
        "if (a == 5):\n",
        "  print(\"Đây là cơm tấm\")\n",
        "if (a == 6):\n",
        "  print(\"Đây là bún chả\")\n",
        "if (a == 7):\n",
        "  print(\"Đây là bánh tét\")\n",
        "if (a == 8):\n",
        "  print(\"Đây là bánh bèo\")\n",
        "if (a == 9):\n",
        "  print(\"Đây là bánh mì\")\n",
        "if (a == 10):\n",
        "  print(\"Đây là gỏi cuốn\")"
      ]
    }
  ],
  "metadata": {
    "colab": {
      "provenance": [],
      "authorship_tag": "ABX9TyMNQTAWgueA+8QkLvpReq4/",
      "include_colab_link": true
    },
    "gpuClass": "standard",
    "kernelspec": {
      "display_name": "Python 3",
      "name": "python3"
    },
    "language_info": {
      "name": "python"
    },
    "accelerator": "GPU"
  },
  "nbformat": 4,
  "nbformat_minor": 0
}