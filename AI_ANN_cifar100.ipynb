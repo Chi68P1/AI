{
  "nbformat": 4,
  "nbformat_minor": 0,
  "metadata": {
    "colab": {
      "provenance": [],
      "mount_file_id": "1YDxBr-prso4OvBZC4ye3SoOWSlj-i3gg",
      "authorship_tag": "ABX9TyMgL5HO6qSDcewXMh+KFqob",
      "include_colab_link": true
    },
    "kernelspec": {
      "name": "python3",
      "display_name": "Python 3"
    },
    "language_info": {
      "name": "python"
    },
    "accelerator": "GPU",
    "gpuClass": "standard"
  },
  "cells": [
    {
      "cell_type": "markdown",
      "metadata": {
        "id": "view-in-github",
        "colab_type": "text"
      },
      "source": [
        "<a href=\"https://colab.research.google.com/github/Chi68P1/AI/blob/main/AI_ANN_cifar100.ipynb\" target=\"_parent\"><img src=\"https://colab.research.google.com/assets/colab-badge.svg\" alt=\"Open In Colab\"/></a>"
      ]
    },
    {
      "cell_type": "code",
      "execution_count": null,
      "metadata": {
        "id": "1qPDa6eOEHwJ"
      },
      "outputs": [],
      "source": [
        "from keras.datasets.cifar100 import load_data #dấu chấm là đường dẫn\n",
        "\n",
        "(x_train, y_train), (x_test, y_test) = load_data()"
      ]
    },
    {
      "cell_type": "code",
      "source": [
        "print(\"x_train: \",x_train.shape)"
      ],
      "metadata": {
        "colab": {
          "base_uri": "https://localhost:8080/"
        },
        "id": "wHJm3w1Jz1zC",
        "outputId": "d37c1be9-477b-4bc1-b55b-222ca7c0f99b"
      },
      "execution_count": null,
      "outputs": [
        {
          "output_type": "stream",
          "name": "stdout",
          "text": [
            "x_train:  (50000, 32, 32, 3)\n"
          ]
        }
      ]
    },
    {
      "cell_type": "code",
      "source": [
        "print(\"x_test: \",x_test.shape)"
      ],
      "metadata": {
        "colab": {
          "base_uri": "https://localhost:8080/"
        },
        "id": "qG8gShWoz16B",
        "outputId": "911a5900-03cf-4236-fb7c-e2da4020c6f6"
      },
      "execution_count": null,
      "outputs": [
        {
          "output_type": "stream",
          "name": "stdout",
          "text": [
            "x_test:  (10000, 32, 32, 3)\n"
          ]
        }
      ]
    },
    {
      "cell_type": "code",
      "source": [
        "import matplotlib.pyplot as plt\n",
        "hinh = x_train[77]\n",
        "plt.imshow(hinh, cmap = plt.cm.binary)\n",
        "plt.show()\n",
        "print(y_train[77])"
      ],
      "metadata": {
        "id": "GmB1az1Uv0iB"
      },
      "execution_count": null,
      "outputs": []
    },
    {
      "cell_type": "code",
      "source": [
        "for i in range(10):\n",
        "  plt.subplot(3, 5, i+1)\n",
        "  plt.tight_layout()\n",
        "  plt.imshow(x_train[i], cmap = 'gray', interpolation='none')\n",
        "  plt.title(\"Label: {}\".format(x_test)[i])\n",
        "  plt.xticks([])\n",
        "  plt.yticks([])\n",
        "plt.show()\n"
      ],
      "metadata": {
        "id": "kwrTzsIcv0n7"
      },
      "execution_count": null,
      "outputs": []
    },
    {
      "cell_type": "code",
      "source": [
        "from keras.models import Sequential\n",
        "from keras.layers import Dense\n",
        "\n",
        "model = Sequential()\n",
        "model.add(Dense(512, activation='relu', input_shape=(32*32*3,))) # 1 chiều duy nhất (1 cột)\n",
        "model.add(Dense(256, activation='relu'))\n",
        "model.add(Dense(128, activation='relu'))\n",
        "model.add(Dense(100, activation='softmax'))\n",
        "model.summary()"
      ],
      "metadata": {
        "id": "Ob-3oVeowJlp"
      },
      "execution_count": null,
      "outputs": []
    },
    {
      "cell_type": "code",
      "source": [
        "print(\"x_train: {}x{}x{}x{}\".format(x_train.shape[0],x_train.shape[1],x_train.shape[2],x_train.shape[3]))"
      ],
      "metadata": {
        "colab": {
          "base_uri": "https://localhost:8080/"
        },
        "id": "TMpyo-KYwLz5",
        "outputId": "09f06141-a14e-473c-9009-80ab262c5aec"
      },
      "execution_count": null,
      "outputs": [
        {
          "output_type": "stream",
          "name": "stdout",
          "text": [
            "x_train: 50000x32x32x3\n"
          ]
        }
      ]
    },
    {
      "cell_type": "code",
      "source": [
        "print(\"x_test: {}x{}x{}x{}\".format(x_test.shape[0],x_test.shape[1],x_test.shape[2],x_test.shape[3]))"
      ],
      "metadata": {
        "colab": {
          "base_uri": "https://localhost:8080/"
        },
        "id": "u3pAXOeExASi",
        "outputId": "3e281403-661c-400d-8964-673dc317ecb5"
      },
      "execution_count": null,
      "outputs": [
        {
          "output_type": "stream",
          "name": "stdout",
          "text": [
            "x_test: 10000x32x32x3\n"
          ]
        }
      ]
    },
    {
      "cell_type": "code",
      "source": [
        "x_train = x_train.reshape((50000,32*32*3))\n",
        "x_train = x_train.astype('float32')/255"
      ],
      "metadata": {
        "id": "zVazwWPtwQ5w"
      },
      "execution_count": null,
      "outputs": []
    },
    {
      "cell_type": "code",
      "source": [
        "x_test = x_test.reshape((10000,32*32*3))\n",
        "x_test = x_test.astype('float32')/255"
      ],
      "metadata": {
        "id": "qrlv09k0wQ8R"
      },
      "execution_count": null,
      "outputs": []
    },
    {
      "cell_type": "code",
      "source": [
        "from keras.utils import to_categorical\n",
        "y_train = to_categorical(y_train,100)\n",
        "y_test = to_categorical(y_test,100)\n"
      ],
      "metadata": {
        "id": "xKpqo0UywQ-w"
      },
      "execution_count": null,
      "outputs": []
    },
    {
      "cell_type": "code",
      "source": [
        "model.compile(optimizer='rmsprop',loss='categorical_crossentropy',metrics=['accuracy'])\n",
        "model.fit(x_train,y_train,epochs=10,batch_size=128)\n",
        "test_loss,test_acc=model.evaluate(x_test,y_test)\n",
        "\n",
        "print('test_acc:',test_acc)\n",
        "print('test_loss',test_loss)"
      ],
      "metadata": {
        "id": "uGFZKGjiwRBZ"
      },
      "execution_count": null,
      "outputs": []
    },
    {
      "cell_type": "code",
      "source": [
        "\n",
        "model.save(\"modelCifar100.h5\")"
      ],
      "metadata": {
        "id": "4O81T_Dl9mpi"
      },
      "execution_count": null,
      "outputs": []
    },
    {
      "cell_type": "code",
      "source": [
        "from google.colab import drive\n",
        "drive.mount('/content/drive')\n",
        "!cp modelCifar100.h5 \"/content/drive/My Drive/Colab Notebooks/\"\n"
      ],
      "metadata": {
        "colab": {
          "base_uri": "https://localhost:8080/"
        },
        "id": "RtpfCePW6pWa",
        "outputId": "503a949a-4387-40c1-e3b0-eaaab0a61f3c"
      },
      "execution_count": null,
      "outputs": [
        {
          "output_type": "stream",
          "name": "stdout",
          "text": [
            "Drive already mounted at /content/drive; to attempt to forcibly remount, call drive.mount(\"/content/drive\", force_remount=True).\n"
          ]
        }
      ]
    },
    {
      "cell_type": "code",
      "source": [
        "from keras.models import load_model\n",
        "model1 = load_model('/content/drive/My Drive/Colab Notebooks/modelCifar100.h5')\n"
      ],
      "metadata": {
        "id": "WL-R3y2D6pZC"
      },
      "execution_count": null,
      "outputs": []
    },
    {
      "cell_type": "code",
      "source": [
        "from keras.utils import load_img\n",
        "import matplotlib.pyplot as plt\n",
        "img = load_img('bird_small.jpg',target_size=(32,32))\n",
        "plt.imshow(img)"
      ],
      "metadata": {
        "id": "kBjqD0y8wi2r"
      },
      "execution_count": null,
      "outputs": []
    },
    {
      "cell_type": "code",
      "source": [
        "import numpy as np\n",
        "from keras.utils.image_utils import img_to_array\n",
        "img = img_to_array(img)\n",
        "img = img.reshape(1,32*32*3)\n",
        "img=img.astype('float32')\n",
        "img=img/255\n",
        "np.argmax(model.predict(img),axis=-1)"
      ],
      "metadata": {
        "colab": {
          "base_uri": "https://localhost:8080/"
        },
        "id": "wB9CvFVYwi5Z",
        "outputId": "115a497b-882a-42ba-e0e7-8e010b7c3a4d"
      },
      "execution_count": null,
      "outputs": [
        {
          "output_type": "stream",
          "name": "stdout",
          "text": [
            "1/1 [==============================] - 0s 88ms/step\n"
          ]
        },
        {
          "output_type": "execute_result",
          "data": {
            "text/plain": [
              "array([53])"
            ]
          },
          "metadata": {},
          "execution_count": 17
        }
      ]
    }
  ]
}